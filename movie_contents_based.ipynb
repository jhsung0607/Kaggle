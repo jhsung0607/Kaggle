{
  "cells": [
    {
      "cell_type": "markdown",
      "metadata": {
        "id": "W5VE_U6PShjO"
      },
      "source": [
        "# 0. movie-contents-based\n",
        "\n",
        "* https://www.kaggle.com/datasets/rounakbanik/the-movies-dataset\n",
        "* 영화의 overview(설명)을 가지고 유사도 구하기"
      ]
    },
    {
      "cell_type": "code",
      "execution_count": null,
      "metadata": {
        "id": "8P-B1XHkiLsz"
      },
      "outputs": [],
      "source": [
        "import pandas as pd\n",
        "import numpy as np\n",
        "import seaborn as sns\n",
        "import os"
      ]
    },
    {
      "cell_type": "markdown",
      "metadata": {
        "id": "yAAMjwq1ShjS"
      },
      "source": [
        "## 데이터 불러오기"
      ]
    },
    {
      "cell_type": "code",
      "execution_count": null,
      "metadata": {
        "id": "3l2ceEeEShjQ",
        "outputId": "62f5e568-f326-4176-ed89-3eab3bb725b4"
      },
      "outputs": [
        {
          "data": {
            "text/plain": [
              "['links_small.csv',\n",
              " 'links.csv',\n",
              " 'credits.csv',\n",
              " 'movies_metadata.csv',\n",
              " 'ratings.csv',\n",
              " 'ratings_small.csv',\n",
              " 'keywords.csv']"
            ]
          },
          "execution_count": 2,
          "metadata": {},
          "output_type": "execute_result"
        }
      ],
      "source": [
        "base_path = \"data/movies\"\n",
        "os.listdir(base_path)"
      ]
    },
    {
      "cell_type": "code",
      "execution_count": null,
      "metadata": {
        "id": "5NsHVNcfShjS",
        "outputId": "a3cd0fc2-995a-4a6c-9f79-b28de31e09a4"
      },
      "outputs": [
        {
          "data": {
            "text/plain": [
              "(45466, 24)"
            ]
          },
          "execution_count": 3,
          "metadata": {},
          "output_type": "execute_result"
        }
      ],
      "source": [
        "df = pd.read_csv(f\"{base_path}/movies_metadata.csv\", low_memory=False)\n",
        "df.shape"
      ]
    },
    {
      "cell_type": "code",
      "execution_count": null,
      "metadata": {
        "id": "6GFnr-33ShjT",
        "outputId": "4818e4a0-90f7-4721-d1c7-4bb93b2140af"
      },
      "outputs": [
        {
          "data": {
            "text/html": [
              "<div>\n",
              "<style scoped>\n",
              "    .dataframe tbody tr th:only-of-type {\n",
              "        vertical-align: middle;\n",
              "    }\n",
              "\n",
              "    .dataframe tbody tr th {\n",
              "        vertical-align: top;\n",
              "    }\n",
              "\n",
              "    .dataframe thead th {\n",
              "        text-align: right;\n",
              "    }\n",
              "</style>\n",
              "<table border=\"1\" class=\"dataframe\">\n",
              "  <thead>\n",
              "    <tr style=\"text-align: right;\">\n",
              "      <th></th>\n",
              "      <th>adult</th>\n",
              "      <th>belongs_to_collection</th>\n",
              "      <th>budget</th>\n",
              "      <th>genres</th>\n",
              "      <th>homepage</th>\n",
              "      <th>id</th>\n",
              "      <th>imdb_id</th>\n",
              "      <th>original_language</th>\n",
              "      <th>original_title</th>\n",
              "      <th>overview</th>\n",
              "      <th>...</th>\n",
              "      <th>release_date</th>\n",
              "      <th>revenue</th>\n",
              "      <th>runtime</th>\n",
              "      <th>spoken_languages</th>\n",
              "      <th>status</th>\n",
              "      <th>tagline</th>\n",
              "      <th>title</th>\n",
              "      <th>video</th>\n",
              "      <th>vote_average</th>\n",
              "      <th>vote_count</th>\n",
              "    </tr>\n",
              "  </thead>\n",
              "  <tbody>\n",
              "    <tr>\n",
              "      <th>0</th>\n",
              "      <td>False</td>\n",
              "      <td>{'id': 10194, 'name': 'Toy Story Collection', ...</td>\n",
              "      <td>30000000</td>\n",
              "      <td>[{'id': 16, 'name': 'Animation'}, {'id': 35, '...</td>\n",
              "      <td>http://toystory.disney.com/toy-story</td>\n",
              "      <td>862</td>\n",
              "      <td>tt0114709</td>\n",
              "      <td>en</td>\n",
              "      <td>Toy Story</td>\n",
              "      <td>Led by Woody, Andy's toys live happily in his ...</td>\n",
              "      <td>...</td>\n",
              "      <td>1995-10-30</td>\n",
              "      <td>373554033.0</td>\n",
              "      <td>81.0</td>\n",
              "      <td>[{'iso_639_1': 'en', 'name': 'English'}]</td>\n",
              "      <td>Released</td>\n",
              "      <td>NaN</td>\n",
              "      <td>Toy Story</td>\n",
              "      <td>False</td>\n",
              "      <td>7.7</td>\n",
              "      <td>5415.0</td>\n",
              "    </tr>\n",
              "    <tr>\n",
              "      <th>1</th>\n",
              "      <td>False</td>\n",
              "      <td>NaN</td>\n",
              "      <td>65000000</td>\n",
              "      <td>[{'id': 12, 'name': 'Adventure'}, {'id': 14, '...</td>\n",
              "      <td>NaN</td>\n",
              "      <td>8844</td>\n",
              "      <td>tt0113497</td>\n",
              "      <td>en</td>\n",
              "      <td>Jumanji</td>\n",
              "      <td>When siblings Judy and Peter discover an encha...</td>\n",
              "      <td>...</td>\n",
              "      <td>1995-12-15</td>\n",
              "      <td>262797249.0</td>\n",
              "      <td>104.0</td>\n",
              "      <td>[{'iso_639_1': 'en', 'name': 'English'}, {'iso...</td>\n",
              "      <td>Released</td>\n",
              "      <td>Roll the dice and unleash the excitement!</td>\n",
              "      <td>Jumanji</td>\n",
              "      <td>False</td>\n",
              "      <td>6.9</td>\n",
              "      <td>2413.0</td>\n",
              "    </tr>\n",
              "  </tbody>\n",
              "</table>\n",
              "<p>2 rows × 24 columns</p>\n",
              "</div>"
            ],
            "text/plain": [
              "   adult                              belongs_to_collection    budget  \\\n",
              "0  False  {'id': 10194, 'name': 'Toy Story Collection', ...  30000000   \n",
              "1  False                                                NaN  65000000   \n",
              "\n",
              "                                              genres  \\\n",
              "0  [{'id': 16, 'name': 'Animation'}, {'id': 35, '...   \n",
              "1  [{'id': 12, 'name': 'Adventure'}, {'id': 14, '...   \n",
              "\n",
              "                               homepage    id    imdb_id original_language  \\\n",
              "0  http://toystory.disney.com/toy-story   862  tt0114709                en   \n",
              "1                                   NaN  8844  tt0113497                en   \n",
              "\n",
              "  original_title                                           overview  ...  \\\n",
              "0      Toy Story  Led by Woody, Andy's toys live happily in his ...  ...   \n",
              "1        Jumanji  When siblings Judy and Peter discover an encha...  ...   \n",
              "\n",
              "  release_date      revenue runtime  \\\n",
              "0   1995-10-30  373554033.0    81.0   \n",
              "1   1995-12-15  262797249.0   104.0   \n",
              "\n",
              "                                    spoken_languages    status  \\\n",
              "0           [{'iso_639_1': 'en', 'name': 'English'}]  Released   \n",
              "1  [{'iso_639_1': 'en', 'name': 'English'}, {'iso...  Released   \n",
              "\n",
              "                                     tagline      title  video vote_average  \\\n",
              "0                                        NaN  Toy Story  False          7.7   \n",
              "1  Roll the dice and unleash the excitement!    Jumanji  False          6.9   \n",
              "\n",
              "  vote_count  \n",
              "0     5415.0  \n",
              "1     2413.0  \n",
              "\n",
              "[2 rows x 24 columns]"
            ]
          },
          "execution_count": 4,
          "metadata": {},
          "output_type": "execute_result"
        }
      ],
      "source": [
        "df.head(2)"
      ]
    },
    {
      "cell_type": "markdown",
      "source": [
        "# 1. 데이터 셋 만들기"
      ],
      "metadata": {
        "id": "uNETDvBOmixZ"
      }
    },
    {
      "cell_type": "markdown",
      "metadata": {
        "id": "qMsyb_LjShjT"
      },
      "source": [
        "## Valid Data"
      ]
    },
    {
      "cell_type": "code",
      "execution_count": null,
      "metadata": {
        "id": "5SNMRzXBShjU",
        "outputId": "ac9cf9a4-a8a3-4001-f027-2f0ba0fed005"
      },
      "outputs": [
        {
          "data": {
            "text/plain": [
              "(44512, 24)"
            ]
          },
          "execution_count": 5,
          "metadata": {},
          "output_type": "execute_result"
        }
      ],
      "source": [
        "# overview 가 결측치가 아닌 것만 사용하기\n",
        "df = df[df[\"overview\"].notnull()].copy()\n",
        "df.shape"
      ]
    },
    {
      "cell_type": "code",
      "execution_count": null,
      "metadata": {
        "id": "w90FElwSShjV",
        "outputId": "4dfc1957-21dc-45cf-9f2c-0c331ae39985"
      },
      "outputs": [
        {
          "data": {
            "text/plain": [
              "(2000, 24)"
            ]
          },
          "execution_count": 6,
          "metadata": {},
          "output_type": "execute_result"
        }
      ],
      "source": [
        "# 샘플링하기\n",
        "df = df.sample(2000, random_state=42).copy()\n",
        "df.shape"
      ]
    },
    {
      "cell_type": "markdown",
      "metadata": {
        "id": "c61pzfPYiLs3"
      },
      "source": [
        "## TF-IDF\n"
      ]
    },
    {
      "cell_type": "code",
      "execution_count": null,
      "metadata": {
        "colab": {
          "base_uri": "https://localhost:8080/"
        },
        "id": "3AogVoDfiLs4",
        "outputId": "6081de44-4efe-4b8c-ac06-79bed25191c0"
      },
      "outputs": [
        {
          "data": {
            "text/html": [
              "<style>#sk-container-id-1 {color: black;background-color: white;}#sk-container-id-1 pre{padding: 0;}#sk-container-id-1 div.sk-toggleable {background-color: white;}#sk-container-id-1 label.sk-toggleable__label {cursor: pointer;display: block;width: 100%;margin-bottom: 0;padding: 0.3em;box-sizing: border-box;text-align: center;}#sk-container-id-1 label.sk-toggleable__label-arrow:before {content: \"▸\";float: left;margin-right: 0.25em;color: #696969;}#sk-container-id-1 label.sk-toggleable__label-arrow:hover:before {color: black;}#sk-container-id-1 div.sk-estimator:hover label.sk-toggleable__label-arrow:before {color: black;}#sk-container-id-1 div.sk-toggleable__content {max-height: 0;max-width: 0;overflow: hidden;text-align: left;background-color: #f0f8ff;}#sk-container-id-1 div.sk-toggleable__content pre {margin: 0.2em;color: black;border-radius: 0.25em;background-color: #f0f8ff;}#sk-container-id-1 input.sk-toggleable__control:checked~div.sk-toggleable__content {max-height: 200px;max-width: 100%;overflow: auto;}#sk-container-id-1 input.sk-toggleable__control:checked~label.sk-toggleable__label-arrow:before {content: \"▾\";}#sk-container-id-1 div.sk-estimator input.sk-toggleable__control:checked~label.sk-toggleable__label {background-color: #d4ebff;}#sk-container-id-1 div.sk-label input.sk-toggleable__control:checked~label.sk-toggleable__label {background-color: #d4ebff;}#sk-container-id-1 input.sk-hidden--visually {border: 0;clip: rect(1px 1px 1px 1px);clip: rect(1px, 1px, 1px, 1px);height: 1px;margin: -1px;overflow: hidden;padding: 0;position: absolute;width: 1px;}#sk-container-id-1 div.sk-estimator {font-family: monospace;background-color: #f0f8ff;border: 1px dotted black;border-radius: 0.25em;box-sizing: border-box;margin-bottom: 0.5em;}#sk-container-id-1 div.sk-estimator:hover {background-color: #d4ebff;}#sk-container-id-1 div.sk-parallel-item::after {content: \"\";width: 100%;border-bottom: 1px solid gray;flex-grow: 1;}#sk-container-id-1 div.sk-label:hover label.sk-toggleable__label {background-color: #d4ebff;}#sk-container-id-1 div.sk-serial::before {content: \"\";position: absolute;border-left: 1px solid gray;box-sizing: border-box;top: 0;bottom: 0;left: 50%;z-index: 0;}#sk-container-id-1 div.sk-serial {display: flex;flex-direction: column;align-items: center;background-color: white;padding-right: 0.2em;padding-left: 0.2em;position: relative;}#sk-container-id-1 div.sk-item {position: relative;z-index: 1;}#sk-container-id-1 div.sk-parallel {display: flex;align-items: stretch;justify-content: center;background-color: white;position: relative;}#sk-container-id-1 div.sk-item::before, #sk-container-id-1 div.sk-parallel-item::before {content: \"\";position: absolute;border-left: 1px solid gray;box-sizing: border-box;top: 0;bottom: 0;left: 50%;z-index: -1;}#sk-container-id-1 div.sk-parallel-item {display: flex;flex-direction: column;z-index: 1;position: relative;background-color: white;}#sk-container-id-1 div.sk-parallel-item:first-child::after {align-self: flex-end;width: 50%;}#sk-container-id-1 div.sk-parallel-item:last-child::after {align-self: flex-start;width: 50%;}#sk-container-id-1 div.sk-parallel-item:only-child::after {width: 0;}#sk-container-id-1 div.sk-dashed-wrapped {border: 1px dashed gray;margin: 0 0.4em 0.5em 0.4em;box-sizing: border-box;padding-bottom: 0.4em;background-color: white;}#sk-container-id-1 div.sk-label label {font-family: monospace;font-weight: bold;display: inline-block;line-height: 1.2em;}#sk-container-id-1 div.sk-label-container {text-align: center;}#sk-container-id-1 div.sk-container {/* jupyter's `normalize.less` sets `[hidden] { display: none; }` but bootstrap.min.css set `[hidden] { display: none !important; }` so we also need the `!important` here to be able to override the default hidden behavior on the sphinx rendered scikit-learn.org. See: https://github.com/scikit-learn/scikit-learn/issues/21755 */display: inline-block !important;position: relative;}#sk-container-id-1 div.sk-text-repr-fallback {display: none;}</style><div id=\"sk-container-id-1\" class=\"sk-top-container\"><div class=\"sk-text-repr-fallback\"><pre>TfidfVectorizer(max_features=20000)</pre><b>In a Jupyter environment, please rerun this cell to show the HTML representation or trust the notebook. <br />On GitHub, the HTML representation is unable to render, please try loading this page with nbviewer.org.</b></div><div class=\"sk-container\" hidden><div class=\"sk-item\"><div class=\"sk-estimator sk-toggleable\"><input class=\"sk-toggleable__control sk-hidden--visually\" id=\"sk-estimator-id-1\" type=\"checkbox\" checked><label for=\"sk-estimator-id-1\" class=\"sk-toggleable__label sk-toggleable__label-arrow\">TfidfVectorizer</label><div class=\"sk-toggleable__content\"><pre>TfidfVectorizer(max_features=20000)</pre></div></div></div></div></div>"
            ],
            "text/plain": [
              "TfidfVectorizer(max_features=20000)"
            ]
          },
          "execution_count": 7,
          "metadata": {},
          "output_type": "execute_result"
        }
      ],
      "source": [
        "from sklearn.feature_extraction.text import TfidfVectorizer\n",
        "\n",
        "tfidfvect = TfidfVectorizer(max_features=20000)\n",
        "tfidfvect"
      ]
    },
    {
      "cell_type": "code",
      "execution_count": null,
      "metadata": {
        "colab": {
          "base_uri": "https://localhost:8080/"
        },
        "id": "SSCLlSlfiLs5",
        "outputId": "f542c477-45c7-4b50-e7cf-5b3e352ac87d"
      },
      "outputs": [
        {
          "data": {
            "text/plain": [
              "<2000x15359 sparse matrix of type '<class 'numpy.float64'>'\n",
              "\twith 84219 stored elements in Compressed Sparse Row format>"
            ]
          },
          "execution_count": 8,
          "metadata": {},
          "output_type": "execute_result"
        }
      ],
      "source": [
        "tfidf_overview = tfidfvect.fit_transform(df[\"overview\"])\n",
        "tfidf_overview"
      ]
    },
    {
      "cell_type": "code",
      "execution_count": null,
      "metadata": {
        "colab": {
          "base_uri": "https://localhost:8080/"
        },
        "id": "Dgbi45HKiLs5",
        "outputId": "84447792-ed90-4855-f1e5-8561f84b98cd"
      },
      "outputs": [
        {
          "data": {
            "text/plain": [
              "array(['00', '000', '007', ..., '주식회사', '찾기', '첫사랑'], dtype=object)"
            ]
          },
          "execution_count": 9,
          "metadata": {},
          "output_type": "execute_result"
        }
      ],
      "source": [
        "tfidfvect.get_feature_names_out()"
      ]
    },
    {
      "cell_type": "code",
      "execution_count": null,
      "metadata": {
        "colab": {
          "base_uri": "https://localhost:8080/",
          "height": 461
        },
        "id": "QHu4s3SYiLs5",
        "outputId": "4867767a-3e98-4d96-88db-bd866d6c7b88"
      },
      "outputs": [
        {
          "data": {
            "text/html": [
              "<div>\n",
              "<style scoped>\n",
              "    .dataframe tbody tr th:only-of-type {\n",
              "        vertical-align: middle;\n",
              "    }\n",
              "\n",
              "    .dataframe tbody tr th {\n",
              "        vertical-align: top;\n",
              "    }\n",
              "\n",
              "    .dataframe thead th {\n",
              "        text-align: right;\n",
              "    }\n",
              "</style>\n",
              "<table border=\"1\" class=\"dataframe\">\n",
              "  <thead>\n",
              "    <tr style=\"text-align: right;\">\n",
              "      <th></th>\n",
              "      <th>00</th>\n",
              "      <th>000</th>\n",
              "      <th>007</th>\n",
              "      <th>09</th>\n",
              "      <th>10</th>\n",
              "      <th>100</th>\n",
              "      <th>108</th>\n",
              "      <th>11</th>\n",
              "      <th>1183</th>\n",
              "      <th>12</th>\n",
              "      <th>...</th>\n",
              "      <th>чеховского</th>\n",
              "      <th>что</th>\n",
              "      <th>шкафу</th>\n",
              "      <th>этом</th>\n",
              "      <th>ようなもの</th>\n",
              "      <th>患者さんとその世界</th>\n",
              "      <th>水俣</th>\n",
              "      <th>주식회사</th>\n",
              "      <th>찾기</th>\n",
              "      <th>첫사랑</th>\n",
              "    </tr>\n",
              "  </thead>\n",
              "  <tbody>\n",
              "    <tr>\n",
              "      <th>0</th>\n",
              "      <td>0.0</td>\n",
              "      <td>0.000000</td>\n",
              "      <td>0.0</td>\n",
              "      <td>0.0</td>\n",
              "      <td>0.0</td>\n",
              "      <td>0.0</td>\n",
              "      <td>0.0</td>\n",
              "      <td>0.000000</td>\n",
              "      <td>0.0</td>\n",
              "      <td>0.0</td>\n",
              "      <td>...</td>\n",
              "      <td>0.0</td>\n",
              "      <td>0.0</td>\n",
              "      <td>0.0</td>\n",
              "      <td>0.0</td>\n",
              "      <td>0.0</td>\n",
              "      <td>0.0</td>\n",
              "      <td>0.0</td>\n",
              "      <td>0.0</td>\n",
              "      <td>0.0</td>\n",
              "      <td>0.0</td>\n",
              "    </tr>\n",
              "    <tr>\n",
              "      <th>1</th>\n",
              "      <td>0.0</td>\n",
              "      <td>0.212722</td>\n",
              "      <td>0.0</td>\n",
              "      <td>0.0</td>\n",
              "      <td>0.0</td>\n",
              "      <td>0.0</td>\n",
              "      <td>0.0</td>\n",
              "      <td>0.000000</td>\n",
              "      <td>0.0</td>\n",
              "      <td>0.0</td>\n",
              "      <td>...</td>\n",
              "      <td>0.0</td>\n",
              "      <td>0.0</td>\n",
              "      <td>0.0</td>\n",
              "      <td>0.0</td>\n",
              "      <td>0.0</td>\n",
              "      <td>0.0</td>\n",
              "      <td>0.0</td>\n",
              "      <td>0.0</td>\n",
              "      <td>0.0</td>\n",
              "      <td>0.0</td>\n",
              "    </tr>\n",
              "    <tr>\n",
              "      <th>2</th>\n",
              "      <td>0.0</td>\n",
              "      <td>0.000000</td>\n",
              "      <td>0.0</td>\n",
              "      <td>0.0</td>\n",
              "      <td>0.0</td>\n",
              "      <td>0.0</td>\n",
              "      <td>0.0</td>\n",
              "      <td>0.000000</td>\n",
              "      <td>0.0</td>\n",
              "      <td>0.0</td>\n",
              "      <td>...</td>\n",
              "      <td>0.0</td>\n",
              "      <td>0.0</td>\n",
              "      <td>0.0</td>\n",
              "      <td>0.0</td>\n",
              "      <td>0.0</td>\n",
              "      <td>0.0</td>\n",
              "      <td>0.0</td>\n",
              "      <td>0.0</td>\n",
              "      <td>0.0</td>\n",
              "      <td>0.0</td>\n",
              "    </tr>\n",
              "    <tr>\n",
              "      <th>3</th>\n",
              "      <td>0.0</td>\n",
              "      <td>0.000000</td>\n",
              "      <td>0.0</td>\n",
              "      <td>0.0</td>\n",
              "      <td>0.0</td>\n",
              "      <td>0.0</td>\n",
              "      <td>0.0</td>\n",
              "      <td>0.122909</td>\n",
              "      <td>0.0</td>\n",
              "      <td>0.0</td>\n",
              "      <td>...</td>\n",
              "      <td>0.0</td>\n",
              "      <td>0.0</td>\n",
              "      <td>0.0</td>\n",
              "      <td>0.0</td>\n",
              "      <td>0.0</td>\n",
              "      <td>0.0</td>\n",
              "      <td>0.0</td>\n",
              "      <td>0.0</td>\n",
              "      <td>0.0</td>\n",
              "      <td>0.0</td>\n",
              "    </tr>\n",
              "    <tr>\n",
              "      <th>4</th>\n",
              "      <td>0.0</td>\n",
              "      <td>0.000000</td>\n",
              "      <td>0.0</td>\n",
              "      <td>0.0</td>\n",
              "      <td>0.0</td>\n",
              "      <td>0.0</td>\n",
              "      <td>0.0</td>\n",
              "      <td>0.000000</td>\n",
              "      <td>0.0</td>\n",
              "      <td>0.0</td>\n",
              "      <td>...</td>\n",
              "      <td>0.0</td>\n",
              "      <td>0.0</td>\n",
              "      <td>0.0</td>\n",
              "      <td>0.0</td>\n",
              "      <td>0.0</td>\n",
              "      <td>0.0</td>\n",
              "      <td>0.0</td>\n",
              "      <td>0.0</td>\n",
              "      <td>0.0</td>\n",
              "      <td>0.0</td>\n",
              "    </tr>\n",
              "    <tr>\n",
              "      <th>...</th>\n",
              "      <td>...</td>\n",
              "      <td>...</td>\n",
              "      <td>...</td>\n",
              "      <td>...</td>\n",
              "      <td>...</td>\n",
              "      <td>...</td>\n",
              "      <td>...</td>\n",
              "      <td>...</td>\n",
              "      <td>...</td>\n",
              "      <td>...</td>\n",
              "      <td>...</td>\n",
              "      <td>...</td>\n",
              "      <td>...</td>\n",
              "      <td>...</td>\n",
              "      <td>...</td>\n",
              "      <td>...</td>\n",
              "      <td>...</td>\n",
              "      <td>...</td>\n",
              "      <td>...</td>\n",
              "      <td>...</td>\n",
              "      <td>...</td>\n",
              "    </tr>\n",
              "    <tr>\n",
              "      <th>1995</th>\n",
              "      <td>0.0</td>\n",
              "      <td>0.000000</td>\n",
              "      <td>0.0</td>\n",
              "      <td>0.0</td>\n",
              "      <td>0.0</td>\n",
              "      <td>0.0</td>\n",
              "      <td>0.0</td>\n",
              "      <td>0.000000</td>\n",
              "      <td>0.0</td>\n",
              "      <td>0.0</td>\n",
              "      <td>...</td>\n",
              "      <td>0.0</td>\n",
              "      <td>0.0</td>\n",
              "      <td>0.0</td>\n",
              "      <td>0.0</td>\n",
              "      <td>0.0</td>\n",
              "      <td>0.0</td>\n",
              "      <td>0.0</td>\n",
              "      <td>0.0</td>\n",
              "      <td>0.0</td>\n",
              "      <td>0.0</td>\n",
              "    </tr>\n",
              "    <tr>\n",
              "      <th>1996</th>\n",
              "      <td>0.0</td>\n",
              "      <td>0.000000</td>\n",
              "      <td>0.0</td>\n",
              "      <td>0.0</td>\n",
              "      <td>0.0</td>\n",
              "      <td>0.0</td>\n",
              "      <td>0.0</td>\n",
              "      <td>0.000000</td>\n",
              "      <td>0.0</td>\n",
              "      <td>0.0</td>\n",
              "      <td>...</td>\n",
              "      <td>0.0</td>\n",
              "      <td>0.0</td>\n",
              "      <td>0.0</td>\n",
              "      <td>0.0</td>\n",
              "      <td>0.0</td>\n",
              "      <td>0.0</td>\n",
              "      <td>0.0</td>\n",
              "      <td>0.0</td>\n",
              "      <td>0.0</td>\n",
              "      <td>0.0</td>\n",
              "    </tr>\n",
              "    <tr>\n",
              "      <th>1997</th>\n",
              "      <td>0.0</td>\n",
              "      <td>0.000000</td>\n",
              "      <td>0.0</td>\n",
              "      <td>0.0</td>\n",
              "      <td>0.0</td>\n",
              "      <td>0.0</td>\n",
              "      <td>0.0</td>\n",
              "      <td>0.000000</td>\n",
              "      <td>0.0</td>\n",
              "      <td>0.0</td>\n",
              "      <td>...</td>\n",
              "      <td>0.0</td>\n",
              "      <td>0.0</td>\n",
              "      <td>0.0</td>\n",
              "      <td>0.0</td>\n",
              "      <td>0.0</td>\n",
              "      <td>0.0</td>\n",
              "      <td>0.0</td>\n",
              "      <td>0.0</td>\n",
              "      <td>0.0</td>\n",
              "      <td>0.0</td>\n",
              "    </tr>\n",
              "    <tr>\n",
              "      <th>1998</th>\n",
              "      <td>0.0</td>\n",
              "      <td>0.000000</td>\n",
              "      <td>0.0</td>\n",
              "      <td>0.0</td>\n",
              "      <td>0.0</td>\n",
              "      <td>0.0</td>\n",
              "      <td>0.0</td>\n",
              "      <td>0.000000</td>\n",
              "      <td>0.0</td>\n",
              "      <td>0.0</td>\n",
              "      <td>...</td>\n",
              "      <td>0.0</td>\n",
              "      <td>0.0</td>\n",
              "      <td>0.0</td>\n",
              "      <td>0.0</td>\n",
              "      <td>0.0</td>\n",
              "      <td>0.0</td>\n",
              "      <td>0.0</td>\n",
              "      <td>0.0</td>\n",
              "      <td>0.0</td>\n",
              "      <td>0.0</td>\n",
              "    </tr>\n",
              "    <tr>\n",
              "      <th>1999</th>\n",
              "      <td>0.0</td>\n",
              "      <td>0.000000</td>\n",
              "      <td>0.0</td>\n",
              "      <td>0.0</td>\n",
              "      <td>0.0</td>\n",
              "      <td>0.0</td>\n",
              "      <td>0.0</td>\n",
              "      <td>0.000000</td>\n",
              "      <td>0.0</td>\n",
              "      <td>0.0</td>\n",
              "      <td>...</td>\n",
              "      <td>0.0</td>\n",
              "      <td>0.0</td>\n",
              "      <td>0.0</td>\n",
              "      <td>0.0</td>\n",
              "      <td>0.0</td>\n",
              "      <td>0.0</td>\n",
              "      <td>0.0</td>\n",
              "      <td>0.0</td>\n",
              "      <td>0.0</td>\n",
              "      <td>0.0</td>\n",
              "    </tr>\n",
              "  </tbody>\n",
              "</table>\n",
              "<p>2000 rows × 15359 columns</p>\n",
              "</div>"
            ],
            "text/plain": [
              "       00       000  007   09   10  100  108        11  1183   12  ...  \\\n",
              "0     0.0  0.000000  0.0  0.0  0.0  0.0  0.0  0.000000   0.0  0.0  ...   \n",
              "1     0.0  0.212722  0.0  0.0  0.0  0.0  0.0  0.000000   0.0  0.0  ...   \n",
              "2     0.0  0.000000  0.0  0.0  0.0  0.0  0.0  0.000000   0.0  0.0  ...   \n",
              "3     0.0  0.000000  0.0  0.0  0.0  0.0  0.0  0.122909   0.0  0.0  ...   \n",
              "4     0.0  0.000000  0.0  0.0  0.0  0.0  0.0  0.000000   0.0  0.0  ...   \n",
              "...   ...       ...  ...  ...  ...  ...  ...       ...   ...  ...  ...   \n",
              "1995  0.0  0.000000  0.0  0.0  0.0  0.0  0.0  0.000000   0.0  0.0  ...   \n",
              "1996  0.0  0.000000  0.0  0.0  0.0  0.0  0.0  0.000000   0.0  0.0  ...   \n",
              "1997  0.0  0.000000  0.0  0.0  0.0  0.0  0.0  0.000000   0.0  0.0  ...   \n",
              "1998  0.0  0.000000  0.0  0.0  0.0  0.0  0.0  0.000000   0.0  0.0  ...   \n",
              "1999  0.0  0.000000  0.0  0.0  0.0  0.0  0.0  0.000000   0.0  0.0  ...   \n",
              "\n",
              "      чеховского  что  шкафу  этом  ようなもの  患者さんとその世界   水俣  주식회사   찾기  첫사랑  \n",
              "0            0.0  0.0    0.0   0.0    0.0        0.0  0.0   0.0  0.0  0.0  \n",
              "1            0.0  0.0    0.0   0.0    0.0        0.0  0.0   0.0  0.0  0.0  \n",
              "2            0.0  0.0    0.0   0.0    0.0        0.0  0.0   0.0  0.0  0.0  \n",
              "3            0.0  0.0    0.0   0.0    0.0        0.0  0.0   0.0  0.0  0.0  \n",
              "4            0.0  0.0    0.0   0.0    0.0        0.0  0.0   0.0  0.0  0.0  \n",
              "...          ...  ...    ...   ...    ...        ...  ...   ...  ...  ...  \n",
              "1995         0.0  0.0    0.0   0.0    0.0        0.0  0.0   0.0  0.0  0.0  \n",
              "1996         0.0  0.0    0.0   0.0    0.0        0.0  0.0   0.0  0.0  0.0  \n",
              "1997         0.0  0.0    0.0   0.0    0.0        0.0  0.0   0.0  0.0  0.0  \n",
              "1998         0.0  0.0    0.0   0.0    0.0        0.0  0.0   0.0  0.0  0.0  \n",
              "1999         0.0  0.0    0.0   0.0    0.0        0.0  0.0   0.0  0.0  0.0  \n",
              "\n",
              "[2000 rows x 15359 columns]"
            ]
          },
          "execution_count": 10,
          "metadata": {},
          "output_type": "execute_result"
        }
      ],
      "source": [
        "df_tfidf = pd.DataFrame(tfidf_overview.toarray(), columns=tfidfvect.get_feature_names_out())\n",
        "df_tfidf"
      ]
    },
    {
      "cell_type": "markdown",
      "metadata": {
        "id": "0pBoOWHqH9u9"
      },
      "source": [
        "# 2. 유사도\n"
      ]
    },
    {
      "cell_type": "markdown",
      "source": [
        "## 코사인 유사도"
      ],
      "metadata": {
        "id": "Eyq1HCFhmz5G"
      }
    },
    {
      "cell_type": "code",
      "execution_count": null,
      "metadata": {
        "colab": {
          "base_uri": "https://localhost:8080/"
        },
        "id": "OCe2gTqZAz7S",
        "outputId": "2805d961-3546-4d00-9991-6002b6ea9358"
      },
      "outputs": [
        {
          "data": {
            "text/plain": [
              "array([[1.        , 0.01077789, 0.00640325, ..., 0.02511254, 0.01460233,\n",
              "        0.        ],\n",
              "       [0.01077789, 1.        , 0.04377587, ..., 0.05025856, 0.04773024,\n",
              "        0.02702719],\n",
              "       [0.00640325, 0.04377587, 1.        , ..., 0.04239767, 0.02726359,\n",
              "        0.0183672 ],\n",
              "       ...,\n",
              "       [0.02511254, 0.05025856, 0.04239767, ..., 1.        , 0.04435692,\n",
              "        0.        ],\n",
              "       [0.01460233, 0.04773024, 0.02726359, ..., 0.04435692, 1.        ,\n",
              "        0.01774577],\n",
              "       [0.        , 0.02702719, 0.0183672 , ..., 0.        , 0.01774577,\n",
              "        1.        ]])"
            ]
          },
          "execution_count": 11,
          "metadata": {},
          "output_type": "execute_result"
        }
      ],
      "source": [
        "# cosine_similarity 불러오기\n",
        "from sklearn.metrics.pairwise import cosine_similarity\n",
        "cosine_matrix = cosine_similarity(tfidf_overview, tfidf_overview)\n",
        "cosine_matrix"
      ]
    },
    {
      "cell_type": "code",
      "execution_count": null,
      "metadata": {
        "id": "36KPxJQsShja",
        "outputId": "f6ba1ee7-d9a3-479b-a894-0531741bbb84"
      },
      "outputs": [
        {
          "data": {
            "text/plain": [
              "<AxesSubplot: >"
            ]
          },
          "execution_count": 12,
          "metadata": {},
          "output_type": "execute_result"
        },
        {
          "data": {
            "image/png": "[encoded data removed]",
            "text/plain": [
              "<Figure size 640x480 with 2 Axes>"
            ]
          },
          "metadata": {},
          "output_type": "display_data"
        }
      ],
      "source": [
        "sns.heatmap(cosine_matrix[:100, :100])"
      ]
    },
    {
      "cell_type": "code",
      "execution_count": null,
      "metadata": {
        "id": "LmgudKiTShja",
        "outputId": "529e572e-978a-458a-9bd5-c5656eb17081"
      },
      "outputs": [
        {
          "data": {
            "text/plain": [
              "array([\"All Tomorrow's Parties\", 'Troy', 'Variety', ..., 'Man vs. Snake',\n",
              "       'Whisper', 'Big Muddy'], dtype=object)"
            ]
          },
          "execution_count": 13,
          "metadata": {},
          "output_type": "execute_result"
        }
      ],
      "source": [
        "# idx = df.index[0]\n",
        "df[\"title\"].unique()"
      ]
    },
    {
      "cell_type": "code",
      "execution_count": null,
      "metadata": {
        "id": "M2G3TWDgShjb",
        "outputId": "986a951d-869f-493d-d8e7-5920112ae73f"
      },
      "outputs": [
        {
          "data": {
            "text/html": [
              "<div>\n",
              "<style scoped>\n",
              "    .dataframe tbody tr th:only-of-type {\n",
              "        vertical-align: middle;\n",
              "    }\n",
              "\n",
              "    .dataframe tbody tr th {\n",
              "        vertical-align: top;\n",
              "    }\n",
              "\n",
              "    .dataframe thead th {\n",
              "        text-align: right;\n",
              "    }\n",
              "</style>\n",
              "<table border=\"1\" class=\"dataframe\">\n",
              "  <thead>\n",
              "    <tr style=\"text-align: right;\">\n",
              "      <th></th>\n",
              "      <th>15605</th>\n",
              "      <th>7291</th>\n",
              "      <th>14582</th>\n",
              "      <th>34668</th>\n",
              "      <th>44660</th>\n",
              "      <th>11163</th>\n",
              "      <th>40205</th>\n",
              "      <th>26168</th>\n",
              "      <th>19389</th>\n",
              "      <th>25067</th>\n",
              "      <th>...</th>\n",
              "      <th>40911</th>\n",
              "      <th>7548</th>\n",
              "      <th>9583</th>\n",
              "      <th>6585</th>\n",
              "      <th>3723</th>\n",
              "      <th>10089</th>\n",
              "      <th>35950</th>\n",
              "      <th>40784</th>\n",
              "      <th>16014</th>\n",
              "      <th>31436</th>\n",
              "    </tr>\n",
              "  </thead>\n",
              "  <tbody>\n",
              "    <tr>\n",
              "      <th>15605</th>\n",
              "      <td>1.000000</td>\n",
              "      <td>0.010778</td>\n",
              "      <td>0.006403</td>\n",
              "      <td>0.015324</td>\n",
              "      <td>0.013505</td>\n",
              "      <td>0.006983</td>\n",
              "      <td>0.015831</td>\n",
              "      <td>0.000000</td>\n",
              "      <td>0.017305</td>\n",
              "      <td>0.011909</td>\n",
              "      <td>...</td>\n",
              "      <td>0.004823</td>\n",
              "      <td>0.013688</td>\n",
              "      <td>0.000000</td>\n",
              "      <td>0.000000</td>\n",
              "      <td>0.002109</td>\n",
              "      <td>0.006960</td>\n",
              "      <td>0.016346</td>\n",
              "      <td>0.025113</td>\n",
              "      <td>0.014602</td>\n",
              "      <td>0.000000</td>\n",
              "    </tr>\n",
              "    <tr>\n",
              "      <th>7291</th>\n",
              "      <td>0.010778</td>\n",
              "      <td>1.000000</td>\n",
              "      <td>0.043776</td>\n",
              "      <td>0.057822</td>\n",
              "      <td>0.027442</td>\n",
              "      <td>0.036187</td>\n",
              "      <td>0.033055</td>\n",
              "      <td>0.007308</td>\n",
              "      <td>0.087219</td>\n",
              "      <td>0.094002</td>\n",
              "      <td>...</td>\n",
              "      <td>0.049051</td>\n",
              "      <td>0.048454</td>\n",
              "      <td>0.027741</td>\n",
              "      <td>0.043108</td>\n",
              "      <td>0.036144</td>\n",
              "      <td>0.065055</td>\n",
              "      <td>0.036559</td>\n",
              "      <td>0.050259</td>\n",
              "      <td>0.047730</td>\n",
              "      <td>0.027027</td>\n",
              "    </tr>\n",
              "  </tbody>\n",
              "</table>\n",
              "<p>2 rows × 2000 columns</p>\n",
              "</div>"
            ],
            "text/plain": [
              "          15605     7291      14582     34668     44660     11163     40205  \\\n",
              "15605  1.000000  0.010778  0.006403  0.015324  0.013505  0.006983  0.015831   \n",
              "7291   0.010778  1.000000  0.043776  0.057822  0.027442  0.036187  0.033055   \n",
              "\n",
              "          26168     19389     25067  ...     40911     7548      9583   \\\n",
              "15605  0.000000  0.017305  0.011909  ...  0.004823  0.013688  0.000000   \n",
              "7291   0.007308  0.087219  0.094002  ...  0.049051  0.048454  0.027741   \n",
              "\n",
              "          6585      3723      10089     35950     40784     16014     31436  \n",
              "15605  0.000000  0.002109  0.006960  0.016346  0.025113  0.014602  0.000000  \n",
              "7291   0.043108  0.036144  0.065055  0.036559  0.050259  0.047730  0.027027  \n",
              "\n",
              "[2 rows x 2000 columns]"
            ]
          },
          "execution_count": 14,
          "metadata": {},
          "output_type": "execute_result"
        }
      ],
      "source": [
        "df_cosine = pd.DataFrame(cosine_matrix, index=df.index, columns=df.index)\n",
        "df_cosine.head(2)"
      ]
    },
    {
      "cell_type": "code",
      "execution_count": null,
      "metadata": {
        "id": "8c3_mjFdShjb",
        "outputId": "54c29549-408e-4ca7-e21b-63aef6718f99"
      },
      "outputs": [
        {
          "data": {
            "text/plain": [
              "array([\"All Tomorrow's Parties\", 'Troy', 'Variety', ..., 'Man vs. Snake',\n",
              "       'Whisper', 'Big Muddy'], dtype=object)"
            ]
          },
          "execution_count": 15,
          "metadata": {},
          "output_type": "execute_result"
        }
      ],
      "source": [
        "df[\"title\"].unique()"
      ]
    },
    {
      "cell_type": "code",
      "execution_count": null,
      "metadata": {
        "id": "hF8A98q7Shjc",
        "outputId": "7c6624ca-be82-4092-9873-f0bad3e61191"
      },
      "outputs": [
        {
          "data": {
            "text/plain": [
              "16128    Harry Potter and the Deathly Hallows: Part 1\n",
              "5678          Harry Potter and the Chamber of Secrets\n",
              "Name: title, dtype: object"
            ]
          },
          "metadata": {},
          "output_type": "display_data"
        },
        {
          "data": {
            "text/plain": [
              "5678"
            ]
          },
          "execution_count": 16,
          "metadata": {},
          "output_type": "execute_result"
        }
      ],
      "source": [
        "title = \"Harry Potter\"\n",
        "# title = \"Troy\"\n",
        "display(df.loc[df[\"title\"].notnull() & df[\"title\"].str.contains(title), \"title\"])\n",
        "movie_id = df.loc[df[\"title\"].notnull() & df[\"title\"].str.contains(title), \"title\"].index[-1]\n",
        "movie_id"
      ]
    },
    {
      "cell_type": "code",
      "execution_count": null,
      "metadata": {
        "id": "Wtt4YTybShjc",
        "outputId": "f96f8a1c-88e1-41f6-8f3b-a3585d1b7243"
      },
      "outputs": [
        {
          "data": {
            "text/plain": [
              "5678     1.000000\n",
              "16128    0.283075\n",
              "26946    0.193453\n",
              "3951     0.136489\n",
              "27326    0.120640\n",
              "9269     0.109662\n",
              "9928     0.107327\n",
              "33653    0.105458\n",
              "35311    0.103020\n",
              "16431    0.092995\n",
              "Name: 5678, dtype: float64"
            ]
          },
          "execution_count": 17,
          "metadata": {},
          "output_type": "execute_result"
        }
      ],
      "source": [
        "sim_cos = df_cosine[movie_id].nlargest(10)\n",
        "sim_cos"
      ]
    },
    {
      "cell_type": "code",
      "execution_count": null,
      "metadata": {
        "id": "rz6m3BODShjd",
        "outputId": "fef7066f-b35d-4643-8e7f-5c73ffb0505c"
      },
      "outputs": [
        {
          "data": {
            "text/html": [
              "<div>\n",
              "<style scoped>\n",
              "    .dataframe tbody tr th:only-of-type {\n",
              "        vertical-align: middle;\n",
              "    }\n",
              "\n",
              "    .dataframe tbody tr th {\n",
              "        vertical-align: top;\n",
              "    }\n",
              "\n",
              "    .dataframe thead th {\n",
              "        text-align: right;\n",
              "    }\n",
              "</style>\n",
              "<table border=\"1\" class=\"dataframe\">\n",
              "  <thead>\n",
              "    <tr style=\"text-align: right;\">\n",
              "      <th></th>\n",
              "      <th>title</th>\n",
              "      <th>overview</th>\n",
              "      <th>5678</th>\n",
              "    </tr>\n",
              "  </thead>\n",
              "  <tbody>\n",
              "    <tr>\n",
              "      <th>5678</th>\n",
              "      <td>Harry Potter and the Chamber of Secrets</td>\n",
              "      <td>Ignoring threats to his life, Harry returns to...</td>\n",
              "      <td>1.000000</td>\n",
              "    </tr>\n",
              "    <tr>\n",
              "      <th>16128</th>\n",
              "      <td>Harry Potter and the Deathly Hallows: Part 1</td>\n",
              "      <td>Harry, Ron and Hermione walk away from their l...</td>\n",
              "      <td>0.283075</td>\n",
              "    </tr>\n",
              "    <tr>\n",
              "      <th>26946</th>\n",
              "      <td>I Love Trouble</td>\n",
              "      <td>A wealthy man hires a detective to investigate...</td>\n",
              "      <td>0.193453</td>\n",
              "    </tr>\n",
              "    <tr>\n",
              "      <th>3951</th>\n",
              "      <td>Harry, He's Here To Help</td>\n",
              "      <td>Harry knew Michel in high school; they meet ag...</td>\n",
              "      <td>0.136489</td>\n",
              "    </tr>\n",
              "    <tr>\n",
              "      <th>27326</th>\n",
              "      <td>Silent Partner</td>\n",
              "      <td>Gordon Patrick, a young CIA analyst is assigne...</td>\n",
              "      <td>0.120640</td>\n",
              "    </tr>\n",
              "    <tr>\n",
              "      <th>9269</th>\n",
              "      <td>Gojoe: Spirit War Chronicle</td>\n",
              "      <td>Benkei, a master fighter and killer, vows neve...</td>\n",
              "      <td>0.109662</td>\n",
              "    </tr>\n",
              "    <tr>\n",
              "      <th>9928</th>\n",
              "      <td>Steppenwolf</td>\n",
              "      <td>In the bourgeois circles of Europe after the G...</td>\n",
              "      <td>0.107327</td>\n",
              "    </tr>\n",
              "    <tr>\n",
              "      <th>33653</th>\n",
              "      <td>Paris Holiday</td>\n",
              "      <td>Comedian Bob Hunter is aided by his French cou...</td>\n",
              "      <td>0.105458</td>\n",
              "    </tr>\n",
              "    <tr>\n",
              "      <th>35311</th>\n",
              "      <td>Mr. Miracle</td>\n",
              "      <td>Heavenly angel Harry Mills is sent to Earth on...</td>\n",
              "      <td>0.103020</td>\n",
              "    </tr>\n",
              "    <tr>\n",
              "      <th>16431</th>\n",
              "      <td>Who Is Harry Nilsson (And Why Is Everybody Tal...</td>\n",
              "      <td>The documentary explores the enigmatic life an...</td>\n",
              "      <td>0.092995</td>\n",
              "    </tr>\n",
              "  </tbody>\n",
              "</table>\n",
              "</div>"
            ],
            "text/plain": [
              "                                                   title  \\\n",
              "5678             Harry Potter and the Chamber of Secrets   \n",
              "16128       Harry Potter and the Deathly Hallows: Part 1   \n",
              "26946                                     I Love Trouble   \n",
              "3951                            Harry, He's Here To Help   \n",
              "27326                                     Silent Partner   \n",
              "9269                         Gojoe: Spirit War Chronicle   \n",
              "9928                                         Steppenwolf   \n",
              "33653                                      Paris Holiday   \n",
              "35311                                        Mr. Miracle   \n",
              "16431  Who Is Harry Nilsson (And Why Is Everybody Tal...   \n",
              "\n",
              "                                                overview      5678  \n",
              "5678   Ignoring threats to his life, Harry returns to...  1.000000  \n",
              "16128  Harry, Ron and Hermione walk away from their l...  0.283075  \n",
              "26946  A wealthy man hires a detective to investigate...  0.193453  \n",
              "3951   Harry knew Michel in high school; they meet ag...  0.136489  \n",
              "27326  Gordon Patrick, a young CIA analyst is assigne...  0.120640  \n",
              "9269   Benkei, a master fighter and killer, vows neve...  0.109662  \n",
              "9928   In the bourgeois circles of Europe after the G...  0.107327  \n",
              "33653  Comedian Bob Hunter is aided by his French cou...  0.105458  \n",
              "35311  Heavenly angel Harry Mills is sent to Earth on...  0.103020  \n",
              "16431  The documentary explores the enigmatic life an...  0.092995  "
            ]
          },
          "execution_count": 18,
          "metadata": {},
          "output_type": "execute_result"
        }
      ],
      "source": [
        "df_sim_cos = df.loc[sim_cos.index, [\"title\", \"overview\"]].join(sim_cos)\n",
        "df_sim_cos"
      ]
    },
    {
      "cell_type": "markdown",
      "metadata": {
        "id": "0WLIrtc2Shjd"
      },
      "source": [
        "### 유사도 결과를 데이터프레임으로 반환하는 함수 만들기"
      ]
    },
    {
      "cell_type": "code",
      "execution_count": null,
      "metadata": {
        "id": "WYbLqq8vShjd"
      },
      "outputs": [],
      "source": [
        "def find_movie(title, sim_matrix, df):\n",
        "    try:\n",
        "        movie_id = df.loc[df[\"title\"].notnull() &\n",
        "                          df[\"title\"].str.contains(title), \"title\"].index[0]\n",
        "        df_sim = pd.DataFrame(sim_matrix, index=df.index, columns=df.index)\n",
        "        sim = df_sim[movie_id].nlargest(10)\n",
        "        df_sim = df.loc[sim.index, [\"title\", \"overview\"]].join(sim)\n",
        "        return df_sim\n",
        "    except:\n",
        "        return \"추천할 영화 없음\""
      ]
    },
    {
      "cell_type": "code",
      "execution_count": null,
      "metadata": {
        "id": "QZatDAlnShje",
        "outputId": "d13f67c6-1b85-49c6-a111-90f515f35cc1"
      },
      "outputs": [
        {
          "data": {
            "text/html": [
              "<div>\n",
              "<style scoped>\n",
              "    .dataframe tbody tr th:only-of-type {\n",
              "        vertical-align: middle;\n",
              "    }\n",
              "\n",
              "    .dataframe tbody tr th {\n",
              "        vertical-align: top;\n",
              "    }\n",
              "\n",
              "    .dataframe thead th {\n",
              "        text-align: right;\n",
              "    }\n",
              "</style>\n",
              "<table border=\"1\" class=\"dataframe\">\n",
              "  <thead>\n",
              "    <tr style=\"text-align: right;\">\n",
              "      <th></th>\n",
              "      <th>title</th>\n",
              "      <th>overview</th>\n",
              "      <th>5244</th>\n",
              "    </tr>\n",
              "  </thead>\n",
              "  <tbody>\n",
              "    <tr>\n",
              "      <th>5244</th>\n",
              "      <td>Star Wars: Episode II - Attack of the Clones</td>\n",
              "      <td>Ten years after the invasion of Naboo, the gal...</td>\n",
              "      <td>1.000000</td>\n",
              "    </tr>\n",
              "    <tr>\n",
              "      <th>12924</th>\n",
              "      <td>Oh! What a Lovely War</td>\n",
              "      <td>A movie about the First World War based on a s...</td>\n",
              "      <td>0.158850</td>\n",
              "    </tr>\n",
              "    <tr>\n",
              "      <th>40660</th>\n",
              "      <td>The Brain Eaters</td>\n",
              "      <td>Strange things are happening in Riverdale, Ill...</td>\n",
              "      <td>0.135422</td>\n",
              "    </tr>\n",
              "    <tr>\n",
              "      <th>11515</th>\n",
              "      <td>Don Camillo</td>\n",
              "      <td>In a village of the Po valley where the earth ...</td>\n",
              "      <td>0.132863</td>\n",
              "    </tr>\n",
              "    <tr>\n",
              "      <th>28079</th>\n",
              "      <td>Freedom Song</td>\n",
              "      <td>Freedom Song (2000) is a made-for-TV film base...</td>\n",
              "      <td>0.127500</td>\n",
              "    </tr>\n",
              "    <tr>\n",
              "      <th>34088</th>\n",
              "      <td>The Absent One</td>\n",
              "      <td>In 1994 two young twins are found brutally mur...</td>\n",
              "      <td>0.126889</td>\n",
              "    </tr>\n",
              "    <tr>\n",
              "      <th>18411</th>\n",
              "      <td>14 Blades</td>\n",
              "      <td>Trained in clandestine combat from childhood, ...</td>\n",
              "      <td>0.121802</td>\n",
              "    </tr>\n",
              "    <tr>\n",
              "      <th>7322</th>\n",
              "      <td>Paperhouse</td>\n",
              "      <td>Anna is becoming lost in the loneliness of her...</td>\n",
              "      <td>0.119797</td>\n",
              "    </tr>\n",
              "    <tr>\n",
              "      <th>23007</th>\n",
              "      <td>The Artist and the Model</td>\n",
              "      <td>The story of a famous old sculptor, weary of l...</td>\n",
              "      <td>0.119473</td>\n",
              "    </tr>\n",
              "    <tr>\n",
              "      <th>14979</th>\n",
              "      <td>Blackwoods</td>\n",
              "      <td>Matt is haunted by the death of a girl from a ...</td>\n",
              "      <td>0.114683</td>\n",
              "    </tr>\n",
              "  </tbody>\n",
              "</table>\n",
              "</div>"
            ],
            "text/plain": [
              "                                              title  \\\n",
              "5244   Star Wars: Episode II - Attack of the Clones   \n",
              "12924                         Oh! What a Lovely War   \n",
              "40660                              The Brain Eaters   \n",
              "11515                                   Don Camillo   \n",
              "28079                                  Freedom Song   \n",
              "34088                                The Absent One   \n",
              "18411                                     14 Blades   \n",
              "7322                                     Paperhouse   \n",
              "23007                      The Artist and the Model   \n",
              "14979                                    Blackwoods   \n",
              "\n",
              "                                                overview      5244  \n",
              "5244   Ten years after the invasion of Naboo, the gal...  1.000000  \n",
              "12924  A movie about the First World War based on a s...  0.158850  \n",
              "40660  Strange things are happening in Riverdale, Ill...  0.135422  \n",
              "11515  In a village of the Po valley where the earth ...  0.132863  \n",
              "28079  Freedom Song (2000) is a made-for-TV film base...  0.127500  \n",
              "34088  In 1994 two young twins are found brutally mur...  0.126889  \n",
              "18411  Trained in clandestine combat from childhood, ...  0.121802  \n",
              "7322   Anna is becoming lost in the loneliness of her...  0.119797  \n",
              "23007  The story of a famous old sculptor, weary of l...  0.119473  \n",
              "14979  Matt is haunted by the death of a girl from a ...  0.114683  "
            ]
          },
          "execution_count": 20,
          "metadata": {},
          "output_type": "execute_result"
        }
      ],
      "source": [
        "title = \"Star Wars\"\n",
        "find_movie(title, cosine_matrix, df)"
      ]
    },
    {
      "cell_type": "markdown",
      "metadata": {
        "id": "oCq3RvEkH6EK"
      },
      "source": [
        "## 유클리디안 유사도"
      ]
    },
    {
      "cell_type": "code",
      "execution_count": null,
      "metadata": {
        "colab": {
          "base_uri": "https://localhost:8080/"
        },
        "id": "QXdFujRQBtDJ",
        "outputId": "fd980722-6abe-4711-e47a-3395f3f331e7"
      },
      "outputs": [
        {
          "name": "stderr",
          "output_type": "stream",
          "text": [
            "/var/folders/nt/890yxml924n92lgx71fwg56w0000gn/T/ipykernel_19281/1791634661.py:5: RuntimeWarning: divide by zero encountered in divide\n",
            "  ec_matrix = 1 / euclidean_distances(tfidf_overview, tfidf_overview)\n"
          ]
        },
        {
          "data": {
            "text/plain": [
              "array([[       inf, 0.71094842, 0.7093816 , ..., 0.71615621, 0.71232672,\n",
              "        0.70710678],\n",
              "       [0.71094842,        inf, 0.72311131, ..., 0.72557499, 0.72461114,\n",
              "        0.7168605 ],\n",
              "       [0.7093816 , 0.72311131,        inf, ..., 0.72259076, 0.7169476 ,\n",
              "        0.71369141],\n",
              "       ...,\n",
              "       [0.71615621, 0.72557499, 0.72259076, ...,        inf, 0.72333111,\n",
              "        0.70710678],\n",
              "       [0.71232672, 0.72461114, 0.7169476 , ..., 0.72333111,        inf,\n",
              "        0.71346562],\n",
              "       [0.70710678, 0.7168605 , 0.71369141, ..., 0.70710678, 0.71346562,\n",
              "               inf]])"
            ]
          },
          "execution_count": 21,
          "metadata": {},
          "output_type": "execute_result"
        }
      ],
      "source": [
        "# sklearn.metrics.pairwise에서 euclidean_distances 불러오기\n",
        "# 1 에 유사도를 구한 값을 나눠주기\n",
        "from sklearn.metrics.pairwise import euclidean_distances\n",
        "\n",
        "ec_matrix = 1 / euclidean_distances(tfidf_overview, tfidf_overview)\n",
        "ec_matrix"
      ]
    },
    {
      "cell_type": "code",
      "execution_count": null,
      "metadata": {
        "id": "UU04ym2AShjf",
        "outputId": "b657882e-e926-4ccd-f9ce-b019b0930073"
      },
      "outputs": [
        {
          "data": {
            "text/plain": [
              "<AxesSubplot: >"
            ]
          },
          "execution_count": 22,
          "metadata": {},
          "output_type": "execute_result"
        },
        {
          "data": {
            "image/png": "[encoded data removed]",
            "text/plain": [
              "<Figure size 640x480 with 2 Axes>"
            ]
          },
          "metadata": {},
          "output_type": "display_data"
        }
      ],
      "source": [
        "sns.heatmap(ec_matrix[:100, :100])"
      ]
    },
    {
      "cell_type": "code",
      "execution_count": null,
      "metadata": {
        "id": "xyIFwPKjShjf",
        "outputId": "4d1ed583-8dd3-405b-829a-9e391e950d3f"
      },
      "outputs": [
        {
          "data": {
            "text/html": [
              "<div>\n",
              "<style scoped>\n",
              "    .dataframe tbody tr th:only-of-type {\n",
              "        vertical-align: middle;\n",
              "    }\n",
              "\n",
              "    .dataframe tbody tr th {\n",
              "        vertical-align: top;\n",
              "    }\n",
              "\n",
              "    .dataframe thead th {\n",
              "        text-align: right;\n",
              "    }\n",
              "</style>\n",
              "<table border=\"1\" class=\"dataframe\">\n",
              "  <thead>\n",
              "    <tr style=\"text-align: right;\">\n",
              "      <th></th>\n",
              "      <th>title</th>\n",
              "      <th>overview</th>\n",
              "      <th>5244</th>\n",
              "    </tr>\n",
              "  </thead>\n",
              "  <tbody>\n",
              "    <tr>\n",
              "      <th>5244</th>\n",
              "      <td>Star Wars: Episode II - Attack of the Clones</td>\n",
              "      <td>Ten years after the invasion of Naboo, the gal...</td>\n",
              "      <td>inf</td>\n",
              "    </tr>\n",
              "    <tr>\n",
              "      <th>12924</th>\n",
              "      <td>Oh! What a Lovely War</td>\n",
              "      <td>A movie about the First World War based on a s...</td>\n",
              "      <td>0.770989</td>\n",
              "    </tr>\n",
              "    <tr>\n",
              "      <th>40660</th>\n",
              "      <td>The Brain Eaters</td>\n",
              "      <td>Strange things are happening in Riverdale, Ill...</td>\n",
              "      <td>0.760472</td>\n",
              "    </tr>\n",
              "    <tr>\n",
              "      <th>11515</th>\n",
              "      <td>Don Camillo</td>\n",
              "      <td>In a village of the Po valley where the earth ...</td>\n",
              "      <td>0.759349</td>\n",
              "    </tr>\n",
              "    <tr>\n",
              "      <th>28079</th>\n",
              "      <td>Freedom Song</td>\n",
              "      <td>Freedom Song (2000) is a made-for-TV film base...</td>\n",
              "      <td>0.757011</td>\n",
              "    </tr>\n",
              "    <tr>\n",
              "      <th>34088</th>\n",
              "      <td>The Absent One</td>\n",
              "      <td>In 1994 two young twins are found brutally mur...</td>\n",
              "      <td>0.756746</td>\n",
              "    </tr>\n",
              "    <tr>\n",
              "      <th>18411</th>\n",
              "      <td>14 Blades</td>\n",
              "      <td>Trained in clandestine combat from childhood, ...</td>\n",
              "      <td>0.754551</td>\n",
              "    </tr>\n",
              "    <tr>\n",
              "      <th>7322</th>\n",
              "      <td>Paperhouse</td>\n",
              "      <td>Anna is becoming lost in the loneliness of her...</td>\n",
              "      <td>0.753691</td>\n",
              "    </tr>\n",
              "    <tr>\n",
              "      <th>23007</th>\n",
              "      <td>The Artist and the Model</td>\n",
              "      <td>The story of a famous old sculptor, weary of l...</td>\n",
              "      <td>0.753553</td>\n",
              "    </tr>\n",
              "    <tr>\n",
              "      <th>14979</th>\n",
              "      <td>Blackwoods</td>\n",
              "      <td>Matt is haunted by the death of a girl from a ...</td>\n",
              "      <td>0.751511</td>\n",
              "    </tr>\n",
              "  </tbody>\n",
              "</table>\n",
              "</div>"
            ],
            "text/plain": [
              "                                              title  \\\n",
              "5244   Star Wars: Episode II - Attack of the Clones   \n",
              "12924                         Oh! What a Lovely War   \n",
              "40660                              The Brain Eaters   \n",
              "11515                                   Don Camillo   \n",
              "28079                                  Freedom Song   \n",
              "34088                                The Absent One   \n",
              "18411                                     14 Blades   \n",
              "7322                                     Paperhouse   \n",
              "23007                      The Artist and the Model   \n",
              "14979                                    Blackwoods   \n",
              "\n",
              "                                                overview      5244  \n",
              "5244   Ten years after the invasion of Naboo, the gal...       inf  \n",
              "12924  A movie about the First World War based on a s...  0.770989  \n",
              "40660  Strange things are happening in Riverdale, Ill...  0.760472  \n",
              "11515  In a village of the Po valley where the earth ...  0.759349  \n",
              "28079  Freedom Song (2000) is a made-for-TV film base...  0.757011  \n",
              "34088  In 1994 two young twins are found brutally mur...  0.756746  \n",
              "18411  Trained in clandestine combat from childhood, ...  0.754551  \n",
              "7322   Anna is becoming lost in the loneliness of her...  0.753691  \n",
              "23007  The story of a famous old sculptor, weary of l...  0.753553  \n",
              "14979  Matt is haunted by the death of a girl from a ...  0.751511  "
            ]
          },
          "execution_count": 23,
          "metadata": {},
          "output_type": "execute_result"
        }
      ],
      "source": [
        "title = \"Star Wars\"\n",
        "find_movie(title, ec_matrix, df)"
      ]
    },
    {
      "cell_type": "markdown",
      "metadata": {
        "id": "iTDC-L7UIRUT"
      },
      "source": [
        "## 피어슨 유사도\n"
      ]
    },
    {
      "cell_type": "code",
      "execution_count": null,
      "metadata": {
        "id": "HiaD-0IkShjg",
        "outputId": "38a0fef4-555a-4c85-8856-dff078811f15"
      },
      "outputs": [
        {
          "data": {
            "text/plain": [
              "<2000x15359 sparse matrix of type '<class 'numpy.float64'>'\n",
              "\twith 84219 stored elements in Compressed Sparse Row format>"
            ]
          },
          "execution_count": 24,
          "metadata": {},
          "output_type": "execute_result"
        }
      ],
      "source": [
        "tfidf_overview"
      ]
    },
    {
      "cell_type": "code",
      "execution_count": null,
      "metadata": {
        "id": "TsY0on8gShjg",
        "outputId": "dfaa500f-6e74-452f-ab10-3d6efdaab9ea"
      },
      "outputs": [
        {
          "data": {
            "text/plain": [
              "array([[ 1.00000000e+00,  9.10285107e-03,  5.51535795e-03, ...,\n",
              "         2.36572471e-02,  1.33381584e-02, -8.77799630e-04],\n",
              "       [ 9.10285107e-03,  1.00000000e+00,  4.19478112e-02, ...,\n",
              "         4.71798778e-02,  4.50914180e-02,  2.51936816e-02],\n",
              "       [ 5.51535795e-03,  4.19478112e-02,  1.00000000e+00, ...,\n",
              "         4.07742128e-02,  2.58456671e-02,  1.73881001e-02],\n",
              "       ...,\n",
              "       [ 2.36572471e-02,  4.71798778e-02,  4.07742128e-02, ...,\n",
              "         1.00000000e+00,  4.20139394e-02, -1.67542441e-03],\n",
              "       [ 1.33381584e-02,  4.50914180e-02,  2.58456671e-02, ...,\n",
              "         4.20139394e-02,  1.00000000e+00,  1.63386243e-02],\n",
              "       [-8.77799630e-04,  2.51936816e-02,  1.73881001e-02, ...,\n",
              "        -1.67542441e-03,  1.63386243e-02,  1.00000000e+00]])"
            ]
          },
          "execution_count": 25,
          "metadata": {},
          "output_type": "execute_result"
        }
      ],
      "source": [
        "# np.corrcoef\n",
        "pearson_sim = np.corrcoef(tfidf_overview.toarray())\n",
        "pearson_sim"
      ]
    },
    {
      "cell_type": "code",
      "execution_count": null,
      "metadata": {
        "id": "PZYoXJcFShjh",
        "outputId": "1e4ef500-de4c-409e-a225-d4e739ae2918"
      },
      "outputs": [
        {
          "data": {
            "text/html": [
              "<div>\n",
              "<style scoped>\n",
              "    .dataframe tbody tr th:only-of-type {\n",
              "        vertical-align: middle;\n",
              "    }\n",
              "\n",
              "    .dataframe tbody tr th {\n",
              "        vertical-align: top;\n",
              "    }\n",
              "\n",
              "    .dataframe thead th {\n",
              "        text-align: right;\n",
              "    }\n",
              "</style>\n",
              "<table border=\"1\" class=\"dataframe\">\n",
              "  <thead>\n",
              "    <tr style=\"text-align: right;\">\n",
              "      <th></th>\n",
              "      <th>title</th>\n",
              "      <th>overview</th>\n",
              "      <th>16128</th>\n",
              "    </tr>\n",
              "  </thead>\n",
              "  <tbody>\n",
              "    <tr>\n",
              "      <th>16128</th>\n",
              "      <td>Harry Potter and the Deathly Hallows: Part 1</td>\n",
              "      <td>Harry, Ron and Hermione walk away from their l...</td>\n",
              "      <td>1.000000</td>\n",
              "    </tr>\n",
              "    <tr>\n",
              "      <th>5678</th>\n",
              "      <td>Harry Potter and the Chamber of Secrets</td>\n",
              "      <td>Ignoring threats to his life, Harry returns to...</td>\n",
              "      <td>0.282070</td>\n",
              "    </tr>\n",
              "    <tr>\n",
              "      <th>3951</th>\n",
              "      <td>Harry, He's Here To Help</td>\n",
              "      <td>Harry knew Michel in high school; they meet ag...</td>\n",
              "      <td>0.136436</td>\n",
              "    </tr>\n",
              "    <tr>\n",
              "      <th>16431</th>\n",
              "      <td>Who Is Harry Nilsson (And Why Is Everybody Tal...</td>\n",
              "      <td>The documentary explores the enigmatic life an...</td>\n",
              "      <td>0.120222</td>\n",
              "    </tr>\n",
              "    <tr>\n",
              "      <th>34728</th>\n",
              "      <td>What Men Still Talk About</td>\n",
              "      <td>A year later the men are still talking, but th...</td>\n",
              "      <td>0.107708</td>\n",
              "    </tr>\n",
              "    <tr>\n",
              "      <th>35311</th>\n",
              "      <td>Mr. Miracle</td>\n",
              "      <td>Heavenly angel Harry Mills is sent to Earth on...</td>\n",
              "      <td>0.102168</td>\n",
              "    </tr>\n",
              "    <tr>\n",
              "      <th>40923</th>\n",
              "      <td>Mr. Right</td>\n",
              "      <td>Louise thought she’d met the man of her dreams...</td>\n",
              "      <td>0.096545</td>\n",
              "    </tr>\n",
              "    <tr>\n",
              "      <th>38630</th>\n",
              "      <td>Frozen Stiff</td>\n",
              "      <td>The basic plot revolves around drug dealer Lim...</td>\n",
              "      <td>0.092112</td>\n",
              "    </tr>\n",
              "    <tr>\n",
              "      <th>17575</th>\n",
              "      <td>Twixt</td>\n",
              "      <td>A writer with a declining career arrives in a ...</td>\n",
              "      <td>0.090439</td>\n",
              "    </tr>\n",
              "    <tr>\n",
              "      <th>1128</th>\n",
              "      <td>Bad Moon</td>\n",
              "      <td>One man's struggle to contain the curse he hid...</td>\n",
              "      <td>0.090158</td>\n",
              "    </tr>\n",
              "  </tbody>\n",
              "</table>\n",
              "</div>"
            ],
            "text/plain": [
              "                                                   title  \\\n",
              "16128       Harry Potter and the Deathly Hallows: Part 1   \n",
              "5678             Harry Potter and the Chamber of Secrets   \n",
              "3951                            Harry, He's Here To Help   \n",
              "16431  Who Is Harry Nilsson (And Why Is Everybody Tal...   \n",
              "34728                          What Men Still Talk About   \n",
              "35311                                        Mr. Miracle   \n",
              "40923                                          Mr. Right   \n",
              "38630                                       Frozen Stiff   \n",
              "17575                                              Twixt   \n",
              "1128                                            Bad Moon   \n",
              "\n",
              "                                                overview     16128  \n",
              "16128  Harry, Ron and Hermione walk away from their l...  1.000000  \n",
              "5678   Ignoring threats to his life, Harry returns to...  0.282070  \n",
              "3951   Harry knew Michel in high school; they meet ag...  0.136436  \n",
              "16431  The documentary explores the enigmatic life an...  0.120222  \n",
              "34728  A year later the men are still talking, but th...  0.107708  \n",
              "35311  Heavenly angel Harry Mills is sent to Earth on...  0.102168  \n",
              "40923  Louise thought she’d met the man of her dreams...  0.096545  \n",
              "38630  The basic plot revolves around drug dealer Lim...  0.092112  \n",
              "17575  A writer with a declining career arrives in a ...  0.090439  \n",
              "1128   One man's struggle to contain the curse he hid...  0.090158  "
            ]
          },
          "execution_count": 26,
          "metadata": {},
          "output_type": "execute_result"
        }
      ],
      "source": [
        "title = \"Harry Potter\"\n",
        "find_movie(title, pearson_sim, df)"
      ]
    },
    {
      "cell_type": "markdown",
      "metadata": {
        "id": "h4cpmZKqJG0s"
      },
      "source": [
        "## 자카드 유사도"
      ]
    },
    {
      "cell_type": "code",
      "execution_count": null,
      "metadata": {
        "colab": {
          "base_uri": "https://localhost:8080/"
        },
        "id": "LnfR_Y8JIajr",
        "outputId": "5aa2eb34-b25a-4bc1-d266-84067a1dc289",
        "scrolled": true
      },
      "outputs": [
        {
          "name": "stderr",
          "output_type": "stream",
          "text": [
            "/Users/corazzon/codes/notebook/lib/python3.10/site-packages/sklearn/metrics/pairwise.py:2008: DataConversionWarning: Data was converted to boolean for metric jaccard\n",
            "  warnings.warn(msg, DataConversionWarning)\n"
          ]
        },
        {
          "data": {
            "text/plain": [
              "array([[1.        , 0.02380952, 0.03225806, ..., 0.04918033, 0.03846154,\n",
              "        0.        ],\n",
              "       [0.02380952, 1.        , 0.05882353, ..., 0.05172414, 0.07692308,\n",
              "        0.02325581],\n",
              "       [0.03225806, 0.05882353, 1.        , ..., 0.0625    , 0.07407407,\n",
              "        0.03030303],\n",
              "       ...,\n",
              "       [0.04918033, 0.05172414, 0.0625    , ..., 1.        , 0.05882353,\n",
              "        0.        ],\n",
              "       [0.03846154, 0.07692308, 0.07407407, ..., 0.05882353, 1.        ,\n",
              "        0.01818182],\n",
              "       [0.        , 0.02325581, 0.03030303, ..., 0.        , 0.01818182,\n",
              "        1.        ]])"
            ]
          },
          "execution_count": 27,
          "metadata": {},
          "output_type": "execute_result"
        }
      ],
      "source": [
        "# sklearn.metrics.pairwise 에서 pairwise_distances 불러오기\n",
        "# metric='jaccard'\n",
        "from sklearn.metrics.pairwise import pairwise_distances\n",
        "\n",
        "jac_matrix = 1 - pairwise_distances(tfidf_overview.toarray(), metric=\"jaccard\")\n",
        "jac_matrix"
      ]
    },
    {
      "cell_type": "code",
      "execution_count": null,
      "metadata": {
        "id": "IUKDu6IOShji",
        "outputId": "44b42a64-07ad-4c15-fbc3-6b882c03d3a7"
      },
      "outputs": [
        {
          "data": {
            "text/plain": [
              "<AxesSubplot: >"
            ]
          },
          "execution_count": 28,
          "metadata": {},
          "output_type": "execute_result"
        },
        {
          "data": {
            "image/png": "[encoded data removed]",
            "text/plain": [
              "<Figure size 640x480 with 2 Axes>"
            ]
          },
          "metadata": {},
          "output_type": "display_data"
        }
      ],
      "source": [
        "sns.heatmap(jac_matrix[:100, :100])"
      ]
    },
    {
      "cell_type": "code",
      "execution_count": null,
      "metadata": {
        "id": "05zv-uu8Shjw",
        "outputId": "327891b3-adf4-4316-84d7-853205d1e7fb"
      },
      "outputs": [
        {
          "data": {
            "text/html": [
              "<div>\n",
              "<style scoped>\n",
              "    .dataframe tbody tr th:only-of-type {\n",
              "        vertical-align: middle;\n",
              "    }\n",
              "\n",
              "    .dataframe tbody tr th {\n",
              "        vertical-align: top;\n",
              "    }\n",
              "\n",
              "    .dataframe thead th {\n",
              "        text-align: right;\n",
              "    }\n",
              "</style>\n",
              "<table border=\"1\" class=\"dataframe\">\n",
              "  <thead>\n",
              "    <tr style=\"text-align: right;\">\n",
              "      <th></th>\n",
              "      <th>title</th>\n",
              "      <th>overview</th>\n",
              "      <th>16128</th>\n",
              "    </tr>\n",
              "  </thead>\n",
              "  <tbody>\n",
              "    <tr>\n",
              "      <th>16128</th>\n",
              "      <td>Harry Potter and the Deathly Hallows: Part 1</td>\n",
              "      <td>Harry, Ron and Hermione walk away from their l...</td>\n",
              "      <td>1.000000</td>\n",
              "    </tr>\n",
              "    <tr>\n",
              "      <th>12114</th>\n",
              "      <td>Beaufort</td>\n",
              "      <td>BEAUFORT tells the story of LIRAZ LIBERTI, the...</td>\n",
              "      <td>0.152941</td>\n",
              "    </tr>\n",
              "    <tr>\n",
              "      <th>3723</th>\n",
              "      <td>Ilsa: She Wolf of the SS</td>\n",
              "      <td>Ilsa is a warden at a Nazi death camp that con...</td>\n",
              "      <td>0.142857</td>\n",
              "    </tr>\n",
              "    <tr>\n",
              "      <th>6286</th>\n",
              "      <td>Objective, Burma!</td>\n",
              "      <td>A group of men parachute into Japanese-occupie...</td>\n",
              "      <td>0.137500</td>\n",
              "    </tr>\n",
              "    <tr>\n",
              "      <th>18913</th>\n",
              "      <td>The Swell Season</td>\n",
              "      <td>The world fell in love with Glen Hansard and M...</td>\n",
              "      <td>0.136364</td>\n",
              "    </tr>\n",
              "    <tr>\n",
              "      <th>4284</th>\n",
              "      <td>The Thing with Two Heads</td>\n",
              "      <td>A rich but racist man is dying and hatches an ...</td>\n",
              "      <td>0.136364</td>\n",
              "    </tr>\n",
              "    <tr>\n",
              "      <th>18840</th>\n",
              "      <td>Goodbye First Love</td>\n",
              "      <td>A 15-year-old discovers the joys and heartache...</td>\n",
              "      <td>0.135593</td>\n",
              "    </tr>\n",
              "    <tr>\n",
              "      <th>41826</th>\n",
              "      <td>The Darkest Dawn</td>\n",
              "      <td>Evacuated from their home, two teenage sisters...</td>\n",
              "      <td>0.135593</td>\n",
              "    </tr>\n",
              "    <tr>\n",
              "      <th>20434</th>\n",
              "      <td>The Devil's Tomb</td>\n",
              "      <td>Captain Mack leads an elite military unit on a...</td>\n",
              "      <td>0.134328</td>\n",
              "    </tr>\n",
              "    <tr>\n",
              "      <th>7804</th>\n",
              "      <td>Memphis Belle</td>\n",
              "      <td>The \"Memphis Belle\" is a World War II bomber, ...</td>\n",
              "      <td>0.134146</td>\n",
              "    </tr>\n",
              "  </tbody>\n",
              "</table>\n",
              "</div>"
            ],
            "text/plain": [
              "                                              title  \\\n",
              "16128  Harry Potter and the Deathly Hallows: Part 1   \n",
              "12114                                      Beaufort   \n",
              "3723                       Ilsa: She Wolf of the SS   \n",
              "6286                              Objective, Burma!   \n",
              "18913                              The Swell Season   \n",
              "4284                       The Thing with Two Heads   \n",
              "18840                            Goodbye First Love   \n",
              "41826                              The Darkest Dawn   \n",
              "20434                              The Devil's Tomb   \n",
              "7804                                  Memphis Belle   \n",
              "\n",
              "                                                overview     16128  \n",
              "16128  Harry, Ron and Hermione walk away from their l...  1.000000  \n",
              "12114  BEAUFORT tells the story of LIRAZ LIBERTI, the...  0.152941  \n",
              "3723   Ilsa is a warden at a Nazi death camp that con...  0.142857  \n",
              "6286   A group of men parachute into Japanese-occupie...  0.137500  \n",
              "18913  The world fell in love with Glen Hansard and M...  0.136364  \n",
              "4284   A rich but racist man is dying and hatches an ...  0.136364  \n",
              "18840  A 15-year-old discovers the joys and heartache...  0.135593  \n",
              "41826  Evacuated from their home, two teenage sisters...  0.135593  \n",
              "20434  Captain Mack leads an elite military unit on a...  0.134328  \n",
              "7804   The \"Memphis Belle\" is a World War II bomber, ...  0.134146  "
            ]
          },
          "execution_count": 29,
          "metadata": {},
          "output_type": "execute_result"
        }
      ],
      "source": [
        "find_movie(title, jac_matrix, df)"
      ]
    }
  ],
  "metadata": {
    "colab": {
      "provenance": [],
      "toc_visible": true
    },
    "kernelspec": {
      "display_name": "Python 3 (ipykernel)",
      "language": "python",
      "name": "python3"
    },
    "language_info": {
      "codemirror_mode": {
        "name": "ipython",
        "version": 3
      },
      "file_extension": ".py",
      "mimetype": "text/x-python",
      "name": "python",
      "nbconvert_exporter": "python",
      "pygments_lexer": "ipython3",
      "version": "3.10.7"
    },
    "toc": {
      "base_numbering": 1,
      "nav_menu": {},
      "number_sections": true,
      "sideBar": true,
      "skip_h1_title": false,
      "title_cell": "Table of Contents",
      "title_sidebar": "Contents",
      "toc_cell": false,
      "toc_position": {},
      "toc_section_display": true,
      "toc_window_display": false
    },
    "varInspector": {
      "cols": {
        "lenName": 16,
        "lenType": 16,
        "lenVar": 40
      },
      "kernels_config": {
        "python": {
          "delete_cmd_postfix": "",
          "delete_cmd_prefix": "del ",
          "library": "var_list.py",
          "varRefreshCmd": "print(var_dic_list())"
        },
        "r": {
          "delete_cmd_postfix": ") ",
          "delete_cmd_prefix": "rm(",
          "library": "var_list.r",
          "varRefreshCmd": "cat(var_dic_list()) "
        }
      },
      "types_to_exclude": [
        "module",
        "function",
        "builtin_function_or_method",
        "instance",
        "_Feature"
      ],
      "window_display": false
    }
  },
  "nbformat": 4,
  "nbformat_minor": 0
}