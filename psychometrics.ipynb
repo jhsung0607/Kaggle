{
  "nbformat": 4,
  "nbformat_minor": 0,
  "metadata": {
    "colab": {
      "provenance": []
    },
    "kernelspec": {
      "name": "python3",
      "display_name": "Python 3"
    },
    "language_info": {
      "name": "python"
    }
  },
  "cells": [
    {
      "cell_type": "markdown",
      "source": [
        "# 0. 월간 데이콘 심리 성향 예측 AI 경진대회\n",
        "* [월간 데이콘 심리 성향 예측 AI 경진대회](https://dacon.io/competitions/official/235647/overview/description)"
      ],
      "metadata": {
        "id": "XbuoqMuZ9qrb"
      }
    },
    {
      "cell_type": "code",
      "execution_count": 1,
      "metadata": {
        "id": "D9Cyt5QzXpNe"
      },
      "outputs": [],
      "source": [
        "import pandas as pd\n",
        "import numpy as np\n",
        "import seaborn as sns\n",
        "import matplotlib.pyplot as plt"
      ]
    },
    {
      "cell_type": "code",
      "source": [
        "from google.colab import drive\n",
        "drive.mount('/gdrive')"
      ],
      "metadata": {
        "colab": {
          "base_uri": "https://localhost:8080/"
        },
        "id": "XfQAcJdF9luU",
        "outputId": "f2b1f15f-9c51-447b-988f-3af5404ad11c"
      },
      "execution_count": 2,
      "outputs": [
        {
          "output_type": "stream",
          "name": "stdout",
          "text": [
            "Drive already mounted at /gdrive; to attempt to forcibly remount, call drive.mount(\"/gdrive\", force_remount=True).\n"
          ]
        }
      ]
    },
    {
      "cell_type": "code",
      "source": [
        "root_dir = \"/gdrive/My Drive/Colab Notebooks/data/psychometrics\"\n",
        "train = pd.read_csv(f\"{root_dir}/train.csv\", index_col=\"index\")\n",
        "test = pd.read_csv(f\"{root_dir}/test_x.csv\", index_col=\"index\")"
      ],
      "metadata": {
        "id": "4ZyD8YIWD1it"
      },
      "execution_count": 3,
      "outputs": []
    },
    {
      "cell_type": "markdown",
      "source": [
        "# 1. EDA"
      ],
      "metadata": {
        "id": "GXgbukUiEGom"
      }
    },
    {
      "cell_type": "code",
      "source": [
        "train.shape, test.shape"
      ],
      "metadata": {
        "colab": {
          "base_uri": "https://localhost:8080/"
        },
        "id": "LlRBYDIKas8M",
        "outputId": "f10f1a6b-d5b0-479d-a9a4-b1ce95976e8f"
      },
      "execution_count": 4,
      "outputs": [
        {
          "output_type": "execute_result",
          "data": {
            "text/plain": [
              "((45532, 77), (11383, 76))"
            ]
          },
          "metadata": {},
          "execution_count": 4
        }
      ]
    },
    {
      "cell_type": "code",
      "source": [
        "train.info()"
      ],
      "metadata": {
        "colab": {
          "base_uri": "https://localhost:8080/"
        },
        "id": "oPKN6h9JGjTk",
        "outputId": "0de2d926-7b29-43d3-9e54-1b65820a88fd"
      },
      "execution_count": 5,
      "outputs": [
        {
          "output_type": "stream",
          "name": "stdout",
          "text": [
            "<class 'pandas.core.frame.DataFrame'>\n",
            "Int64Index: 45532 entries, 0 to 45531\n",
            "Data columns (total 77 columns):\n",
            " #   Column      Non-Null Count  Dtype  \n",
            "---  ------      --------------  -----  \n",
            " 0   QaA         45532 non-null  float64\n",
            " 1   QaE         45532 non-null  int64  \n",
            " 2   QbA         45532 non-null  float64\n",
            " 3   QbE         45532 non-null  int64  \n",
            " 4   QcA         45532 non-null  float64\n",
            " 5   QcE         45532 non-null  int64  \n",
            " 6   QdA         45532 non-null  float64\n",
            " 7   QdE         45532 non-null  int64  \n",
            " 8   QeA         45532 non-null  float64\n",
            " 9   QeE         45532 non-null  int64  \n",
            " 10  QfA         45532 non-null  float64\n",
            " 11  QfE         45532 non-null  int64  \n",
            " 12  QgA         45532 non-null  float64\n",
            " 13  QgE         45532 non-null  int64  \n",
            " 14  QhA         45532 non-null  float64\n",
            " 15  QhE         45532 non-null  int64  \n",
            " 16  QiA         45532 non-null  float64\n",
            " 17  QiE         45532 non-null  int64  \n",
            " 18  QjA         45532 non-null  float64\n",
            " 19  QjE         45532 non-null  int64  \n",
            " 20  QkA         45532 non-null  float64\n",
            " 21  QkE         45532 non-null  int64  \n",
            " 22  QlA         45532 non-null  float64\n",
            " 23  QlE         45532 non-null  int64  \n",
            " 24  QmA         45532 non-null  float64\n",
            " 25  QmE         45532 non-null  int64  \n",
            " 26  QnA         45532 non-null  float64\n",
            " 27  QnE         45532 non-null  int64  \n",
            " 28  QoA         45532 non-null  float64\n",
            " 29  QoE         45532 non-null  int64  \n",
            " 30  QpA         45532 non-null  float64\n",
            " 31  QpE         45532 non-null  int64  \n",
            " 32  QqA         45532 non-null  float64\n",
            " 33  QqE         45532 non-null  int64  \n",
            " 34  QrA         45532 non-null  float64\n",
            " 35  QrE         45532 non-null  int64  \n",
            " 36  QsA         45532 non-null  float64\n",
            " 37  QsE         45532 non-null  int64  \n",
            " 38  QtA         45532 non-null  float64\n",
            " 39  QtE         45532 non-null  int64  \n",
            " 40  age_group   45532 non-null  object \n",
            " 41  education   45532 non-null  int64  \n",
            " 42  engnat      45532 non-null  int64  \n",
            " 43  familysize  45532 non-null  int64  \n",
            " 44  gender      45532 non-null  object \n",
            " 45  hand        45532 non-null  int64  \n",
            " 46  married     45532 non-null  int64  \n",
            " 47  race        45532 non-null  object \n",
            " 48  religion    45532 non-null  object \n",
            " 49  tp01        45532 non-null  int64  \n",
            " 50  tp02        45532 non-null  int64  \n",
            " 51  tp03        45532 non-null  int64  \n",
            " 52  tp04        45532 non-null  int64  \n",
            " 53  tp05        45532 non-null  int64  \n",
            " 54  tp06        45532 non-null  int64  \n",
            " 55  tp07        45532 non-null  int64  \n",
            " 56  tp08        45532 non-null  int64  \n",
            " 57  tp09        45532 non-null  int64  \n",
            " 58  tp10        45532 non-null  int64  \n",
            " 59  urban       45532 non-null  int64  \n",
            " 60  voted       45532 non-null  int64  \n",
            " 61  wf_01       45532 non-null  int64  \n",
            " 62  wf_02       45532 non-null  int64  \n",
            " 63  wf_03       45532 non-null  int64  \n",
            " 64  wr_01       45532 non-null  int64  \n",
            " 65  wr_02       45532 non-null  int64  \n",
            " 66  wr_03       45532 non-null  int64  \n",
            " 67  wr_04       45532 non-null  int64  \n",
            " 68  wr_05       45532 non-null  int64  \n",
            " 69  wr_06       45532 non-null  int64  \n",
            " 70  wr_07       45532 non-null  int64  \n",
            " 71  wr_08       45532 non-null  int64  \n",
            " 72  wr_09       45532 non-null  int64  \n",
            " 73  wr_10       45532 non-null  int64  \n",
            " 74  wr_11       45532 non-null  int64  \n",
            " 75  wr_12       45532 non-null  int64  \n",
            " 76  wr_13       45532 non-null  int64  \n",
            "dtypes: float64(20), int64(53), object(4)\n",
            "memory usage: 27.1+ MB\n"
          ]
        }
      ]
    },
    {
      "cell_type": "code",
      "source": [
        "set(train.columns) - set(test.columns)"
      ],
      "metadata": {
        "colab": {
          "base_uri": "https://localhost:8080/"
        },
        "id": "uUATKD7Payv5",
        "outputId": "4f2724be-4dbd-41d9-9c5b-2c54f1705c20"
      },
      "execution_count": 6,
      "outputs": [
        {
          "output_type": "execute_result",
          "data": {
            "text/plain": [
              "{'voted'}"
            ]
          },
          "metadata": {},
          "execution_count": 6
        }
      ]
    },
    {
      "cell_type": "code",
      "source": [
        "sns.histplot(train[\"voted\"])"
      ],
      "metadata": {
        "colab": {
          "base_uri": "https://localhost:8080/",
          "height": 467
        },
        "id": "_BmqwpxBbOcy",
        "outputId": "3a517bf3-75f4-4593-f7c4-6189fc284d9f"
      },
      "execution_count": 7,
      "outputs": [
        {
          "output_type": "execute_result",
          "data": {
            "text/plain": [
              "<Axes: xlabel='voted', ylabel='Count'>"
            ]
          },
          "metadata": {},
          "execution_count": 7
        },
        {
          "output_type": "display_data",
          "data": {
            "text/plain": [
              "<Figure size 640x480 with 1 Axes>"
            ],
            "image/png": "[encoded data removed]"
          },
          "metadata": {}
        }
      ]
    },
    {
      "cell_type": "code",
      "source": [
        "train.isnull().sum().sum()"
      ],
      "metadata": {
        "colab": {
          "base_uri": "https://localhost:8080/"
        },
        "id": "xbQyNJTXc9cl",
        "outputId": "f52e4f7a-6ca3-4046-a0ce-b048b115946e"
      },
      "execution_count": 8,
      "outputs": [
        {
          "output_type": "execute_result",
          "data": {
            "text/plain": [
              "0"
            ]
          },
          "metadata": {},
          "execution_count": 8
        }
      ]
    },
    {
      "cell_type": "code",
      "source": [
        "test.isnull().sum().sum()"
      ],
      "metadata": {
        "colab": {
          "base_uri": "https://localhost:8080/"
        },
        "id": "qp4Xc4IZdBMI",
        "outputId": "0d753fe4-fe3b-46fb-d6c6-93380e00d9bf"
      },
      "execution_count": 9,
      "outputs": [
        {
          "output_type": "execute_result",
          "data": {
            "text/plain": [
              "0"
            ]
          },
          "metadata": {},
          "execution_count": 9
        }
      ]
    },
    {
      "cell_type": "markdown",
      "source": [
        "## 데이터 전처리\n"
      ],
      "metadata": {
        "id": "HmBR7zEwI7OT"
      }
    },
    {
      "cell_type": "code",
      "source": [
        "train[\"voted\"] = train[\"voted\"].map(lambda x:x-1)"
      ],
      "metadata": {
        "id": "Wyi5UkokxxiF"
      },
      "execution_count": 10,
      "outputs": []
    },
    {
      "cell_type": "code",
      "source": [
        "train[\"age_group\"] = train[\"age_group\"].map(lambda x:int(x[:-1]))\n",
        "test[\"age_group\"] = test[\"age_group\"].map(lambda x:int(x[:-1]))"
      ],
      "metadata": {
        "id": "4ulI5Q_tI9PH"
      },
      "execution_count": 11,
      "outputs": []
    },
    {
      "cell_type": "code",
      "source": [
        "obj_cols = train.select_dtypes(include=\"object\").columns\n",
        "obj_cols"
      ],
      "metadata": {
        "colab": {
          "base_uri": "https://localhost:8080/"
        },
        "id": "poHE9BiJOg18",
        "outputId": "d1682a23-0eef-4723-8ec4-be9f6b102f9d"
      },
      "execution_count": 12,
      "outputs": [
        {
          "output_type": "execute_result",
          "data": {
            "text/plain": [
              "Index(['gender', 'race', 'religion'], dtype='object')"
            ]
          },
          "metadata": {},
          "execution_count": 12
        }
      ]
    },
    {
      "cell_type": "code",
      "source": [
        "from sklearn.preprocessing import LabelEncoder\n",
        "\n",
        "for col in obj_cols:\n",
        "    le = LabelEncoder()\n",
        "    train[col] = le.fit_transform(train[col])\n",
        "    test[col] = le.transform(test[col])"
      ],
      "metadata": {
        "id": "le0XLW5APYKw"
      },
      "execution_count": 13,
      "outputs": []
    },
    {
      "cell_type": "markdown",
      "source": [
        "# 2. 딥러닝"
      ],
      "metadata": {
        "id": "sC2byCkBtWom"
      }
    },
    {
      "cell_type": "markdown",
      "source": [
        "## 데이터셋"
      ],
      "metadata": {
        "id": "9DTj4_L4VDEY"
      }
    },
    {
      "cell_type": "code",
      "source": [
        "label_name = \"voted\""
      ],
      "metadata": {
        "id": "8UyClwdpdRt9"
      },
      "execution_count": 14,
      "outputs": []
    },
    {
      "cell_type": "code",
      "source": [
        "X_train = train.drop(columns=\"voted\")"
      ],
      "metadata": {
        "id": "gj6when3dlcs"
      },
      "execution_count": 15,
      "outputs": []
    },
    {
      "cell_type": "code",
      "source": [
        "y_train = train[label_name]"
      ],
      "metadata": {
        "id": "-80dNGwreCQ0"
      },
      "execution_count": 16,
      "outputs": []
    },
    {
      "cell_type": "code",
      "source": [
        "X_test = test"
      ],
      "metadata": {
        "id": "TBf-PXh-eF-j"
      },
      "execution_count": 17,
      "outputs": []
    },
    {
      "cell_type": "code",
      "source": [
        "X_train.shape, y_train.shape, X_test.shape"
      ],
      "metadata": {
        "colab": {
          "base_uri": "https://localhost:8080/"
        },
        "id": "20oJNU-ohY7x",
        "outputId": "21747c82-89c5-4bf0-d838-c0a3a91afe87"
      },
      "execution_count": 18,
      "outputs": [
        {
          "output_type": "execute_result",
          "data": {
            "text/plain": [
              "((45532, 76), (45532,), (11383, 76))"
            ]
          },
          "metadata": {},
          "execution_count": 18
        }
      ]
    },
    {
      "cell_type": "code",
      "source": [
        "from sklearn.preprocessing import MinMaxScaler\n",
        "\n",
        "scaler = MinMaxScaler()\n",
        "scaler.fit(X_train)\n",
        "X_train = scaler.transform(X_train)\n",
        "\n",
        "X_test = scaler.transform(X_test)"
      ],
      "metadata": {
        "id": "G3yzvg_tdFyf"
      },
      "execution_count": 19,
      "outputs": []
    },
    {
      "cell_type": "markdown",
      "source": [
        "## tensorflow"
      ],
      "metadata": {
        "id": "AGDs_nYjeYEj"
      }
    },
    {
      "cell_type": "code",
      "source": [
        "import tensorflow as tf\n",
        "from tensorflow.keras import models, layers"
      ],
      "metadata": {
        "id": "sDOYozVleLRh"
      },
      "execution_count": 20,
      "outputs": []
    },
    {
      "cell_type": "code",
      "source": [
        "model = models.Sequential()\n",
        "model.add(layers.Dense(128, activation='relu',\n",
        "                      input_shape=(X_train.shape[1],)))\n",
        "model.add(layers.Dense(128, activation='relu'))\n",
        "model.add(layers.Dense(64, activation='sigmoid'))\n",
        "model.add(layers.Dense(1, activation='sigmoid'))\n",
        "#model.add(layers.Dense(1))"
      ],
      "metadata": {
        "id": "TdJ7s3Rreo0M"
      },
      "execution_count": 21,
      "outputs": []
    },
    {
      "cell_type": "code",
      "source": [
        "model.compile(optimizer = \"adam\", loss = \"binary_crossentropy\", metrics = ['AUC','accuracy'])"
      ],
      "metadata": {
        "id": "TwmuEEr5fvbx"
      },
      "execution_count": 22,
      "outputs": []
    },
    {
      "cell_type": "code",
      "source": [
        "early_stop = tf.keras.callbacks.EarlyStopping(monitor='val_loss', patience=10)"
      ],
      "metadata": {
        "id": "F5hjEsfnhDy_"
      },
      "execution_count": 23,
      "outputs": []
    },
    {
      "cell_type": "code",
      "source": [
        "history = model.fit(X_train, y_train, epochs = 100, validation_split=0.2, callbacks = early_stop)"
      ],
      "metadata": {
        "colab": {
          "base_uri": "https://localhost:8080/"
        },
        "id": "ow4VJmu-hKca",
        "outputId": "83c1d784-96f1-4554-c138-26903b7dee6d"
      },
      "execution_count": 24,
      "outputs": [
        {
          "output_type": "stream",
          "name": "stdout",
          "text": [
            "Epoch 1/100\n",
            "1139/1139 [==============================] - 9s 5ms/step - loss: 0.6011 - auc: 0.7263 - accuracy: 0.6664 - val_loss: 0.5846 - val_auc: 0.7488 - val_accuracy: 0.6740\n",
            "Epoch 2/100\n",
            "1139/1139 [==============================] - 4s 3ms/step - loss: 0.5773 - auc: 0.7494 - accuracy: 0.6858 - val_loss: 0.5762 - val_auc: 0.7520 - val_accuracy: 0.6846\n",
            "Epoch 3/100\n",
            "1139/1139 [==============================] - 3s 2ms/step - loss: 0.5730 - auc: 0.7533 - accuracy: 0.6856 - val_loss: 0.5761 - val_auc: 0.7528 - val_accuracy: 0.6813\n",
            "Epoch 4/100\n",
            "1139/1139 [==============================] - 3s 3ms/step - loss: 0.5698 - auc: 0.7568 - accuracy: 0.6888 - val_loss: 0.5788 - val_auc: 0.7547 - val_accuracy: 0.6818\n",
            "Epoch 5/100\n",
            "1139/1139 [==============================] - 3s 2ms/step - loss: 0.5663 - auc: 0.7613 - accuracy: 0.6928 - val_loss: 0.5749 - val_auc: 0.7543 - val_accuracy: 0.6864\n",
            "Epoch 6/100\n",
            "1139/1139 [==============================] - 2s 2ms/step - loss: 0.5635 - auc: 0.7624 - accuracy: 0.6936 - val_loss: 0.5689 - val_auc: 0.7547 - val_accuracy: 0.6869\n",
            "Epoch 7/100\n",
            "1139/1139 [==============================] - 3s 2ms/step - loss: 0.5624 - auc: 0.7642 - accuracy: 0.6955 - val_loss: 0.5677 - val_auc: 0.7554 - val_accuracy: 0.6871\n",
            "Epoch 8/100\n",
            "1139/1139 [==============================] - 3s 3ms/step - loss: 0.5590 - auc: 0.7668 - accuracy: 0.6966 - val_loss: 0.5756 - val_auc: 0.7532 - val_accuracy: 0.6845\n",
            "Epoch 9/100\n",
            "1139/1139 [==============================] - 3s 2ms/step - loss: 0.5551 - auc: 0.7705 - accuracy: 0.6982 - val_loss: 0.5695 - val_auc: 0.7528 - val_accuracy: 0.6867\n",
            "Epoch 10/100\n",
            "1139/1139 [==============================] - 3s 2ms/step - loss: 0.5529 - auc: 0.7727 - accuracy: 0.7000 - val_loss: 0.5714 - val_auc: 0.7523 - val_accuracy: 0.6857\n",
            "Epoch 11/100\n",
            "1139/1139 [==============================] - 2s 2ms/step - loss: 0.5498 - auc: 0.7762 - accuracy: 0.7013 - val_loss: 0.5759 - val_auc: 0.7503 - val_accuracy: 0.6841\n",
            "Epoch 12/100\n",
            "1139/1139 [==============================] - 2s 2ms/step - loss: 0.5465 - auc: 0.7789 - accuracy: 0.7034 - val_loss: 0.5740 - val_auc: 0.7521 - val_accuracy: 0.6874\n",
            "Epoch 13/100\n",
            "1139/1139 [==============================] - 3s 3ms/step - loss: 0.5435 - auc: 0.7820 - accuracy: 0.7053 - val_loss: 0.5812 - val_auc: 0.7501 - val_accuracy: 0.6874\n",
            "Epoch 14/100\n",
            "1139/1139 [==============================] - 3s 2ms/step - loss: 0.5396 - auc: 0.7860 - accuracy: 0.7067 - val_loss: 0.5787 - val_auc: 0.7482 - val_accuracy: 0.6845\n",
            "Epoch 15/100\n",
            "1139/1139 [==============================] - 3s 2ms/step - loss: 0.5362 - auc: 0.7886 - accuracy: 0.7101 - val_loss: 0.5925 - val_auc: 0.7441 - val_accuracy: 0.6813\n",
            "Epoch 16/100\n",
            "1139/1139 [==============================] - 3s 2ms/step - loss: 0.5320 - auc: 0.7927 - accuracy: 0.7151 - val_loss: 0.5988 - val_auc: 0.7470 - val_accuracy: 0.6821\n",
            "Epoch 17/100\n",
            "1139/1139 [==============================] - 3s 2ms/step - loss: 0.5273 - auc: 0.7962 - accuracy: 0.7174 - val_loss: 0.5906 - val_auc: 0.7414 - val_accuracy: 0.6749\n"
          ]
        }
      ]
    },
    {
      "cell_type": "code",
      "source": [
        "df_hist = pd.DataFrame(history.history)\n",
        "df_hist.tail()"
      ],
      "metadata": {
        "colab": {
          "base_uri": "https://localhost:8080/",
          "height": 206
        },
        "id": "6cZ_-pKhkkHT",
        "outputId": "369794dc-c890-4af4-a878-cd607e5d15f5"
      },
      "execution_count": 25,
      "outputs": [
        {
          "output_type": "execute_result",
          "data": {
            "text/plain": [
              "        loss       auc  accuracy  val_loss   val_auc  val_accuracy\n",
              "12  0.543532  0.782017  0.705285  0.581229  0.750146      0.687383\n",
              "13  0.539565  0.786020  0.706712  0.578735  0.748168      0.684528\n",
              "14  0.536160  0.788563  0.710062  0.592513  0.744125      0.681344\n",
              "15  0.531988  0.792697  0.715086  0.598779  0.747024      0.682113\n",
              "16  0.527338  0.796247  0.717392  0.590579  0.741397      0.674865"
            ],
            "text/html": [
              "\n",
              "  <div id=\"df-311d566f-480e-476a-977e-f9b05f893b24\">\n",
              "    <div class=\"colab-df-container\">\n",
              "      <div>\n",
              "<style scoped>\n",
              "    .dataframe tbody tr th:only-of-type {\n",
              "        vertical-align: middle;\n",
              "    }\n",
              "\n",
              "    .dataframe tbody tr th {\n",
              "        vertical-align: top;\n",
              "    }\n",
              "\n",
              "    .dataframe thead th {\n",
              "        text-align: right;\n",
              "    }\n",
              "</style>\n",
              "<table border=\"1\" class=\"dataframe\">\n",
              "  <thead>\n",
              "    <tr style=\"text-align: right;\">\n",
              "      <th></th>\n",
              "      <th>loss</th>\n",
              "      <th>auc</th>\n",
              "      <th>accuracy</th>\n",
              "      <th>val_loss</th>\n",
              "      <th>val_auc</th>\n",
              "      <th>val_accuracy</th>\n",
              "    </tr>\n",
              "  </thead>\n",
              "  <tbody>\n",
              "    <tr>\n",
              "      <th>12</th>\n",
              "      <td>0.543532</td>\n",
              "      <td>0.782017</td>\n",
              "      <td>0.705285</td>\n",
              "      <td>0.581229</td>\n",
              "      <td>0.750146</td>\n",
              "      <td>0.687383</td>\n",
              "    </tr>\n",
              "    <tr>\n",
              "      <th>13</th>\n",
              "      <td>0.539565</td>\n",
              "      <td>0.786020</td>\n",
              "      <td>0.706712</td>\n",
              "      <td>0.578735</td>\n",
              "      <td>0.748168</td>\n",
              "      <td>0.684528</td>\n",
              "    </tr>\n",
              "    <tr>\n",
              "      <th>14</th>\n",
              "      <td>0.536160</td>\n",
              "      <td>0.788563</td>\n",
              "      <td>0.710062</td>\n",
              "      <td>0.592513</td>\n",
              "      <td>0.744125</td>\n",
              "      <td>0.681344</td>\n",
              "    </tr>\n",
              "    <tr>\n",
              "      <th>15</th>\n",
              "      <td>0.531988</td>\n",
              "      <td>0.792697</td>\n",
              "      <td>0.715086</td>\n",
              "      <td>0.598779</td>\n",
              "      <td>0.747024</td>\n",
              "      <td>0.682113</td>\n",
              "    </tr>\n",
              "    <tr>\n",
              "      <th>16</th>\n",
              "      <td>0.527338</td>\n",
              "      <td>0.796247</td>\n",
              "      <td>0.717392</td>\n",
              "      <td>0.590579</td>\n",
              "      <td>0.741397</td>\n",
              "      <td>0.674865</td>\n",
              "    </tr>\n",
              "  </tbody>\n",
              "</table>\n",
              "</div>\n",
              "      <button class=\"colab-df-convert\" onclick=\"convertToInteractive('df-311d566f-480e-476a-977e-f9b05f893b24')\"\n",
              "              title=\"Convert this dataframe to an interactive table.\"\n",
              "              style=\"display:none;\">\n",
              "        \n",
              "  <svg xmlns=\"http://www.w3.org/2000/svg\" height=\"24px\"viewBox=\"0 0 24 24\"\n",
              "       width=\"24px\">\n",
              "    <path d=\"M0 0h24v24H0V0z\" fill=\"none\"/>\n",
              "    <path d=\"M18.56 5.44l.94 2.06.94-2.06 2.06-.94-2.06-.94-.94-2.06-.94 2.06-2.06.94zm-11 1L8.5 8.5l.94-2.06 2.06-.94-2.06-.94L8.5 2.5l-.94 2.06-2.06.94zm10 10l.94 2.06.94-2.06 2.06-.94-2.06-.94-.94-2.06-.94 2.06-2.06.94z\"/><path d=\"M17.41 7.96l-1.37-1.37c-.4-.4-.92-.59-1.43-.59-.52 0-1.04.2-1.43.59L10.3 9.45l-7.72 7.72c-.78.78-.78 2.05 0 2.83L4 21.41c.39.39.9.59 1.41.59.51 0 1.02-.2 1.41-.59l7.78-7.78 2.81-2.81c.8-.78.8-2.07 0-2.86zM5.41 20L4 18.59l7.72-7.72 1.47 1.35L5.41 20z\"/>\n",
              "  </svg>\n",
              "      </button>\n",
              "      \n",
              "  <style>\n",
              "    .colab-df-container {\n",
              "      display:flex;\n",
              "      flex-wrap:wrap;\n",
              "      gap: 12px;\n",
              "    }\n",
              "\n",
              "    .colab-df-convert {\n",
              "      background-color: #E8F0FE;\n",
              "      border: none;\n",
              "      border-radius: 50%;\n",
              "      cursor: pointer;\n",
              "      display: none;\n",
              "      fill: #1967D2;\n",
              "      height: 32px;\n",
              "      padding: 0 0 0 0;\n",
              "      width: 32px;\n",
              "    }\n",
              "\n",
              "    .colab-df-convert:hover {\n",
              "      background-color: #E2EBFA;\n",
              "      box-shadow: 0px 1px 2px rgba(60, 64, 67, 0.3), 0px 1px 3px 1px rgba(60, 64, 67, 0.15);\n",
              "      fill: #174EA6;\n",
              "    }\n",
              "\n",
              "    [theme=dark] .colab-df-convert {\n",
              "      background-color: #3B4455;\n",
              "      fill: #D2E3FC;\n",
              "    }\n",
              "\n",
              "    [theme=dark] .colab-df-convert:hover {\n",
              "      background-color: #434B5C;\n",
              "      box-shadow: 0px 1px 3px 1px rgba(0, 0, 0, 0.15);\n",
              "      filter: drop-shadow(0px 1px 2px rgba(0, 0, 0, 0.3));\n",
              "      fill: #FFFFFF;\n",
              "    }\n",
              "  </style>\n",
              "\n",
              "      <script>\n",
              "        const buttonEl =\n",
              "          document.querySelector('#df-311d566f-480e-476a-977e-f9b05f893b24 button.colab-df-convert');\n",
              "        buttonEl.style.display =\n",
              "          google.colab.kernel.accessAllowed ? 'block' : 'none';\n",
              "\n",
              "        async function convertToInteractive(key) {\n",
              "          const element = document.querySelector('#df-311d566f-480e-476a-977e-f9b05f893b24');\n",
              "          const dataTable =\n",
              "            await google.colab.kernel.invokeFunction('convertToInteractive',\n",
              "                                                     [key], {});\n",
              "          if (!dataTable) return;\n",
              "\n",
              "          const docLinkHtml = 'Like what you see? Visit the ' +\n",
              "            '<a target=\"_blank\" href=https://colab.research.google.com/notebooks/data_table.ipynb>data table notebook</a>'\n",
              "            + ' to learn more about interactive tables.';\n",
              "          element.innerHTML = '';\n",
              "          dataTable['output_type'] = 'display_data';\n",
              "          await google.colab.output.renderOutput(dataTable, element);\n",
              "          const docLink = document.createElement('div');\n",
              "          docLink.innerHTML = docLinkHtml;\n",
              "          element.appendChild(docLink);\n",
              "        }\n",
              "      </script>\n",
              "    </div>\n",
              "  </div>\n",
              "  "
            ]
          },
          "metadata": {},
          "execution_count": 25
        }
      ]
    },
    {
      "cell_type": "code",
      "source": [
        "df_hist[[\"auc\",\"val_auc\"]].plot()"
      ],
      "metadata": {
        "colab": {
          "base_uri": "https://localhost:8080/",
          "height": 448
        },
        "id": "mIiHxJDwlLAp",
        "outputId": "3c99817c-6281-4256-d250-9865483083e7"
      },
      "execution_count": 26,
      "outputs": [
        {
          "output_type": "execute_result",
          "data": {
            "text/plain": [
              "<Axes: >"
            ]
          },
          "metadata": {},
          "execution_count": 26
        },
        {
          "output_type": "display_data",
          "data": {
            "text/plain": [
              "<Figure size 640x480 with 1 Axes>"
            ],
            "image/png": "[encoded data removed]"
          },
          "metadata": {}
        }
      ]
    },
    {
      "cell_type": "code",
      "source": [
        "df_hist[[\"accuracy\", \"val_accuracy\"]].plot()"
      ],
      "metadata": {
        "colab": {
          "base_uri": "https://localhost:8080/",
          "height": 448
        },
        "id": "W3bjL-0flOlb",
        "outputId": "74b6b130-13b8-4597-abae-ee800affaac8"
      },
      "execution_count": 28,
      "outputs": [
        {
          "output_type": "execute_result",
          "data": {
            "text/plain": [
              "<Axes: >"
            ]
          },
          "metadata": {},
          "execution_count": 28
        },
        {
          "output_type": "display_data",
          "data": {
            "text/plain": [
              "<Figure size 640x480 with 1 Axes>"
            ],
            "image/png": "[encoded data removed]"
          },
          "metadata": {}
        }
      ]
    },
    {
      "cell_type": "markdown",
      "source": [
        "## 모델 예측"
      ],
      "metadata": {
        "id": "ln9FjdqzouMK"
      }
    },
    {
      "cell_type": "code",
      "source": [
        "y_pred = model.predict(X_test)\n",
        "y_pred"
      ],
      "metadata": {
        "colab": {
          "base_uri": "https://localhost:8080/"
        },
        "id": "_ixKzA0joNpo",
        "outputId": "989ddc15-32be-4072-f815-1c7f4a0e91e5"
      },
      "execution_count": 29,
      "outputs": [
        {
          "output_type": "stream",
          "name": "stdout",
          "text": [
            "356/356 [==============================] - 1s 1ms/step\n"
          ]
        },
        {
          "output_type": "execute_result",
          "data": {
            "text/plain": [
              "array([[0.69471323],\n",
              "       [0.995093  ],\n",
              "       [0.19705221],\n",
              "       ...,\n",
              "       [0.06915849],\n",
              "       [0.29161882],\n",
              "       [0.93992484]], dtype=float32)"
            ]
          },
          "metadata": {},
          "execution_count": 29
        }
      ]
    },
    {
      "cell_type": "code",
      "source": [
        "y_predict = (y_pred.flatten() > 0.5).astype(int)\n",
        "y_predict"
      ],
      "metadata": {
        "colab": {
          "base_uri": "https://localhost:8080/"
        },
        "id": "TgMglu5FppmT",
        "outputId": "c51aa04d-b247-4291-c7e8-b5c570fa34cd"
      },
      "execution_count": 30,
      "outputs": [
        {
          "output_type": "execute_result",
          "data": {
            "text/plain": [
              "array([1, 1, 0, ..., 0, 0, 1])"
            ]
          },
          "metadata": {},
          "execution_count": 30
        }
      ]
    },
    {
      "cell_type": "markdown",
      "source": [
        "## 모델 제출"
      ],
      "metadata": {
        "id": "8XCUtgEJowda"
      }
    },
    {
      "cell_type": "code",
      "source": [
        "submission = pd.read_csv(f\"{root_dir}/sample_submission.csv\", index_col=\"index\")"
      ],
      "metadata": {
        "id": "fe5Jp0FGorfl"
      },
      "execution_count": 31,
      "outputs": []
    },
    {
      "cell_type": "code",
      "source": [
        "submission[\"voted\"] = y_predict"
      ],
      "metadata": {
        "id": "5zLhTQOWpJHG"
      },
      "execution_count": 32,
      "outputs": []
    },
    {
      "cell_type": "code",
      "source": [
        "submission[\"voted\"] = submission[\"voted\"].map(lambda x:x+1)"
      ],
      "metadata": {
        "id": "jBThL4pnaTJ0"
      },
      "execution_count": 33,
      "outputs": []
    },
    {
      "cell_type": "code",
      "source": [
        "score = float(df_hist[\"val_auc\"][-1:])"
      ],
      "metadata": {
        "id": "i3FlPCbgqP1J"
      },
      "execution_count": 37,
      "outputs": []
    },
    {
      "cell_type": "code",
      "source": [
        "file_name = f\"submission_{score}.csv\""
      ],
      "metadata": {
        "id": "lydpQ04EpyQG"
      },
      "execution_count": 38,
      "outputs": []
    },
    {
      "cell_type": "code",
      "source": [
        "submission.to_csv(file_name)"
      ],
      "metadata": {
        "id": "L9tZF4FSpvbs"
      },
      "execution_count": 39,
      "outputs": []
    },
    {
      "cell_type": "markdown",
      "source": [
        "![image.png](data:image/png;base64,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)"
      ],
      "metadata": {
        "id": "vvUbICGmelaU"
      }
    }
  ]
}